{
  "nbformat": 4,
  "nbformat_minor": 0,
  "metadata": {
    "colab": {
      "name": "sistema de predicción daños por minería Colombia.ipynb",
      "provenance": [],
      "authorship_tag": "ABX9TyOwAaWiZxyr34NNBTNyscpC",
      "include_colab_link": true
    },
    "kernelspec": {
      "name": "python3",
      "display_name": "Python 3"
    },
    "language_info": {
      "name": "python"
    }
  },
  "cells": [
    {
      "cell_type": "markdown",
      "metadata": {
        "id": "view-in-github",
        "colab_type": "text"
      },
      "source": [
        "<a href=\"https://colab.research.google.com/github/cata123/Machine-learning/blob/main/sistema_de_predicci%C3%B3n_da%C3%B1os_por_miner%C3%ADa_Colombia.ipynb\" target=\"_parent\"><img src=\"https://colab.research.google.com/assets/colab-badge.svg\" alt=\"Open In Colab\"/></a>"
      ]
    },
    {
      "cell_type": "markdown",
      "metadata": {
        "id": "ls8ZtVRrDYbK"
      },
      "source": [
        "# **Pre-procesamiento, integración y limpieza de datos**"
      ]
    },
    {
      "cell_type": "markdown",
      "metadata": {
        "id": "grb1iE_uDuSP"
      },
      "source": [
        "Importar librerías y leer archivo"
      ]
    },
    {
      "cell_type": "code",
      "metadata": {
        "id": "zCLDrqqz6SIm",
        "colab": {
          "base_uri": "https://localhost:8080/",
          "height": 664
        },
        "outputId": "ff0a79ce-851b-4c38-d9dc-16ee9f880df3"
      },
      "source": [
        "import pandas as pd\n",
        "df = pd.read_csv(\"dataset_afectacion_por_mineria_colombia.csv\")\n",
        "df.head(10)"
      ],
      "execution_count": null,
      "outputs": [
        {
          "output_type": "execute_result",
          "data": {
            "text/html": [
              "<div>\n",
              "<style scoped>\n",
              "    .dataframe tbody tr th:only-of-type {\n",
              "        vertical-align: middle;\n",
              "    }\n",
              "\n",
              "    .dataframe tbody tr th {\n",
              "        vertical-align: top;\n",
              "    }\n",
              "\n",
              "    .dataframe thead th {\n",
              "        text-align: right;\n",
              "    }\n",
              "</style>\n",
              "<table border=\"1\" class=\"dataframe\">\n",
              "  <thead>\n",
              "    <tr style=\"text-align: right;\">\n",
              "      <th></th>\n",
              "      <th>departamento</th>\n",
              "      <th>municipio</th>\n",
              "      <th>mineral</th>\n",
              "      <th>ecosistemas potencialmente afectados</th>\n",
              "      <th>tipo de afectacion</th>\n",
              "      <th>metodo de extraccion</th>\n",
              "    </tr>\n",
              "  </thead>\n",
              "  <tbody>\n",
              "    <tr>\n",
              "      <th>0</th>\n",
              "      <td>cundinamarca</td>\n",
              "      <td>bogotá</td>\n",
              "      <td>arenas y gravas</td>\n",
              "      <td>páramo</td>\n",
              "      <td>Movimiento en masa</td>\n",
              "      <td>subterránea y cielo abierto</td>\n",
              "    </tr>\n",
              "    <tr>\n",
              "      <th>1</th>\n",
              "      <td>cundinamarca</td>\n",
              "      <td>cogua</td>\n",
              "      <td>arcilla</td>\n",
              "      <td>páramo</td>\n",
              "      <td>Movimiento en masa</td>\n",
              "      <td>subterránea y cielo abierto</td>\n",
              "    </tr>\n",
              "    <tr>\n",
              "      <th>2</th>\n",
              "      <td>cundinamarca</td>\n",
              "      <td>soacha</td>\n",
              "      <td>arenas y gravas</td>\n",
              "      <td>páramo</td>\n",
              "      <td>Movimiento en masa</td>\n",
              "      <td>subterránea y cielo abierto</td>\n",
              "    </tr>\n",
              "    <tr>\n",
              "      <th>3</th>\n",
              "      <td>cundinamarca</td>\n",
              "      <td>caqueza</td>\n",
              "      <td>arenas y gravas</td>\n",
              "      <td>bosques andinos</td>\n",
              "      <td>Movimiento en masa</td>\n",
              "      <td>subterránea y cielo abierto</td>\n",
              "    </tr>\n",
              "    <tr>\n",
              "      <th>4</th>\n",
              "      <td>cundinamarca</td>\n",
              "      <td>ubala</td>\n",
              "      <td>arenas y gravas</td>\n",
              "      <td>bosques andinos</td>\n",
              "      <td>Movimiento en masa</td>\n",
              "      <td>subterránea y cielo abierto</td>\n",
              "    </tr>\n",
              "    <tr>\n",
              "      <th>5</th>\n",
              "      <td>cundinamarca</td>\n",
              "      <td>gachela</td>\n",
              "      <td>arenas y gravas</td>\n",
              "      <td>bosques andinos</td>\n",
              "      <td>Movimiento en masa</td>\n",
              "      <td>subterránea y cielo abierto</td>\n",
              "    </tr>\n",
              "    <tr>\n",
              "      <th>6</th>\n",
              "      <td>valle del cauca</td>\n",
              "      <td>buenaventura</td>\n",
              "      <td>oro</td>\n",
              "      <td>bosques andinos</td>\n",
              "      <td>Sedimentacion</td>\n",
              "      <td>aluvión y subterránea</td>\n",
              "    </tr>\n",
              "    <tr>\n",
              "      <th>7</th>\n",
              "      <td>valle del cauca</td>\n",
              "      <td>yumbo</td>\n",
              "      <td>carbón</td>\n",
              "      <td>bosques andinos</td>\n",
              "      <td>Movimiento en masa y Sedimentación</td>\n",
              "      <td>subterránea</td>\n",
              "    </tr>\n",
              "    <tr>\n",
              "      <th>8</th>\n",
              "      <td>valle del cauca</td>\n",
              "      <td>yumbo</td>\n",
              "      <td>calizas</td>\n",
              "      <td>bosques andinos</td>\n",
              "      <td>Movimiento en masa y Sedimentación</td>\n",
              "      <td>subterránea</td>\n",
              "    </tr>\n",
              "    <tr>\n",
              "      <th>9</th>\n",
              "      <td>valle del cauca</td>\n",
              "      <td>jamundi</td>\n",
              "      <td>carbón</td>\n",
              "      <td>NaN</td>\n",
              "      <td>Sedimentación</td>\n",
              "      <td>subterránea</td>\n",
              "    </tr>\n",
              "  </tbody>\n",
              "</table>\n",
              "</div>"
            ],
            "text/plain": [
              "      departamento  ...         metodo de extraccion\n",
              "0     cundinamarca  ...  subterránea y cielo abierto\n",
              "1     cundinamarca  ...  subterránea y cielo abierto\n",
              "2     cundinamarca  ...  subterránea y cielo abierto\n",
              "3     cundinamarca  ...  subterránea y cielo abierto\n",
              "4     cundinamarca  ...  subterránea y cielo abierto\n",
              "5     cundinamarca  ...  subterránea y cielo abierto\n",
              "6  valle del cauca  ...        aluvión y subterránea\n",
              "7  valle del cauca  ...                  subterránea\n",
              "8  valle del cauca  ...                  subterránea\n",
              "9  valle del cauca  ...                  subterránea\n",
              "\n",
              "[10 rows x 6 columns]"
            ]
          },
          "metadata": {
            "tags": []
          },
          "execution_count": 44
        }
      ]
    },
    {
      "cell_type": "markdown",
      "metadata": {
        "id": "uCH0fRZCIh9Y"
      },
      "source": [
        "Cambiar nombres de las cabeceras"
      ]
    },
    {
      "cell_type": "code",
      "metadata": {
        "colab": {
          "base_uri": "https://localhost:8080/",
          "height": 551
        },
        "id": "YsfnixdUIkiq",
        "outputId": "27641892-e4f9-43a2-d181-3b5c8a363dd1"
      },
      "source": [
        "cabecera = [\"DEPARTAMENTO\",\"MUNICIPIO\",\"MINERAL\",\"ECOS_POTENC_AFECTADOS\",\"IMPACTOS\",\"METODO_EXTRACCION\"]\n",
        "df.columns = cabecera\n",
        "df.head(10)"
      ],
      "execution_count": null,
      "outputs": [
        {
          "output_type": "execute_result",
          "data": {
            "text/html": [
              "<div>\n",
              "<style scoped>\n",
              "    .dataframe tbody tr th:only-of-type {\n",
              "        vertical-align: middle;\n",
              "    }\n",
              "\n",
              "    .dataframe tbody tr th {\n",
              "        vertical-align: top;\n",
              "    }\n",
              "\n",
              "    .dataframe thead th {\n",
              "        text-align: right;\n",
              "    }\n",
              "</style>\n",
              "<table border=\"1\" class=\"dataframe\">\n",
              "  <thead>\n",
              "    <tr style=\"text-align: right;\">\n",
              "      <th></th>\n",
              "      <th>DEPARTAMENTO</th>\n",
              "      <th>MUNICIPIO</th>\n",
              "      <th>MINERAL</th>\n",
              "      <th>ECOS_POTENC_AFECTADOS</th>\n",
              "      <th>IMPACTOS</th>\n",
              "      <th>METODO_EXTRACCION</th>\n",
              "    </tr>\n",
              "  </thead>\n",
              "  <tbody>\n",
              "    <tr>\n",
              "      <th>0</th>\n",
              "      <td>cundinamarca</td>\n",
              "      <td>bogotá</td>\n",
              "      <td>arenas y gravas</td>\n",
              "      <td>páramo</td>\n",
              "      <td>Movimiento en masa</td>\n",
              "      <td>subterránea y cielo abierto</td>\n",
              "    </tr>\n",
              "    <tr>\n",
              "      <th>1</th>\n",
              "      <td>cundinamarca</td>\n",
              "      <td>cogua</td>\n",
              "      <td>arcilla</td>\n",
              "      <td>páramo</td>\n",
              "      <td>Movimiento en masa</td>\n",
              "      <td>subterránea y cielo abierto</td>\n",
              "    </tr>\n",
              "    <tr>\n",
              "      <th>2</th>\n",
              "      <td>cundinamarca</td>\n",
              "      <td>soacha</td>\n",
              "      <td>arenas y gravas</td>\n",
              "      <td>páramo</td>\n",
              "      <td>Movimiento en masa</td>\n",
              "      <td>subterránea y cielo abierto</td>\n",
              "    </tr>\n",
              "    <tr>\n",
              "      <th>3</th>\n",
              "      <td>cundinamarca</td>\n",
              "      <td>caqueza</td>\n",
              "      <td>arenas y gravas</td>\n",
              "      <td>bosques andinos</td>\n",
              "      <td>Movimiento en masa</td>\n",
              "      <td>subterránea y cielo abierto</td>\n",
              "    </tr>\n",
              "    <tr>\n",
              "      <th>4</th>\n",
              "      <td>cundinamarca</td>\n",
              "      <td>ubala</td>\n",
              "      <td>arenas y gravas</td>\n",
              "      <td>bosques andinos</td>\n",
              "      <td>Movimiento en masa</td>\n",
              "      <td>subterránea y cielo abierto</td>\n",
              "    </tr>\n",
              "    <tr>\n",
              "      <th>5</th>\n",
              "      <td>cundinamarca</td>\n",
              "      <td>gachela</td>\n",
              "      <td>arenas y gravas</td>\n",
              "      <td>bosques andinos</td>\n",
              "      <td>Movimiento en masa</td>\n",
              "      <td>subterránea y cielo abierto</td>\n",
              "    </tr>\n",
              "    <tr>\n",
              "      <th>6</th>\n",
              "      <td>valle del cauca</td>\n",
              "      <td>buenaventura</td>\n",
              "      <td>oro</td>\n",
              "      <td>bosques andinos</td>\n",
              "      <td>Sedimentacion</td>\n",
              "      <td>aluvión y subterránea</td>\n",
              "    </tr>\n",
              "    <tr>\n",
              "      <th>7</th>\n",
              "      <td>valle del cauca</td>\n",
              "      <td>yumbo</td>\n",
              "      <td>carbón</td>\n",
              "      <td>bosques andinos</td>\n",
              "      <td>Movimiento en masa y Sedimentación</td>\n",
              "      <td>subterránea</td>\n",
              "    </tr>\n",
              "    <tr>\n",
              "      <th>8</th>\n",
              "      <td>valle del cauca</td>\n",
              "      <td>yumbo</td>\n",
              "      <td>calizas</td>\n",
              "      <td>bosques andinos</td>\n",
              "      <td>Movimiento en masa y Sedimentación</td>\n",
              "      <td>subterránea</td>\n",
              "    </tr>\n",
              "    <tr>\n",
              "      <th>9</th>\n",
              "      <td>valle del cauca</td>\n",
              "      <td>jamundi</td>\n",
              "      <td>carbón</td>\n",
              "      <td>NaN</td>\n",
              "      <td>Sedimentación</td>\n",
              "      <td>subterránea</td>\n",
              "    </tr>\n",
              "  </tbody>\n",
              "</table>\n",
              "</div>"
            ],
            "text/plain": [
              "      DEPARTAMENTO  ...            METODO_EXTRACCION\n",
              "0     cundinamarca  ...  subterránea y cielo abierto\n",
              "1     cundinamarca  ...  subterránea y cielo abierto\n",
              "2     cundinamarca  ...  subterránea y cielo abierto\n",
              "3     cundinamarca  ...  subterránea y cielo abierto\n",
              "4     cundinamarca  ...  subterránea y cielo abierto\n",
              "5     cundinamarca  ...  subterránea y cielo abierto\n",
              "6  valle del cauca  ...        aluvión y subterránea\n",
              "7  valle del cauca  ...                  subterránea\n",
              "8  valle del cauca  ...                  subterránea\n",
              "9  valle del cauca  ...                  subterránea\n",
              "\n",
              "[10 rows x 6 columns]"
            ]
          },
          "metadata": {
            "tags": []
          },
          "execution_count": 45
        }
      ]
    },
    {
      "cell_type": "markdown",
      "metadata": {
        "id": "tZstp224JySO"
      },
      "source": [
        "Imprimir los primeros 30 registros"
      ]
    },
    {
      "cell_type": "code",
      "metadata": {
        "colab": {
          "base_uri": "https://localhost:8080/",
          "height": 1000
        },
        "id": "8Kaynm9_J3eI",
        "outputId": "fbd4b4a5-15ea-4e69-8473-e4d3d77c3bca"
      },
      "source": [
        "df.head(30)"
      ],
      "execution_count": null,
      "outputs": [
        {
          "output_type": "execute_result",
          "data": {
            "text/html": [
              "<div>\n",
              "<style scoped>\n",
              "    .dataframe tbody tr th:only-of-type {\n",
              "        vertical-align: middle;\n",
              "    }\n",
              "\n",
              "    .dataframe tbody tr th {\n",
              "        vertical-align: top;\n",
              "    }\n",
              "\n",
              "    .dataframe thead th {\n",
              "        text-align: right;\n",
              "    }\n",
              "</style>\n",
              "<table border=\"1\" class=\"dataframe\">\n",
              "  <thead>\n",
              "    <tr style=\"text-align: right;\">\n",
              "      <th></th>\n",
              "      <th>DEPARTAMENTO</th>\n",
              "      <th>MUNICIPIO</th>\n",
              "      <th>MINERAL</th>\n",
              "      <th>ECOS_POTENC_AFECTADOS</th>\n",
              "      <th>IMPACTOS</th>\n",
              "      <th>METODO_EXTRACCION</th>\n",
              "    </tr>\n",
              "  </thead>\n",
              "  <tbody>\n",
              "    <tr>\n",
              "      <th>0</th>\n",
              "      <td>cundinamarca</td>\n",
              "      <td>bogotá</td>\n",
              "      <td>arenas y gravas</td>\n",
              "      <td>páramo</td>\n",
              "      <td>Movimiento en masa</td>\n",
              "      <td>subterránea y cielo abierto</td>\n",
              "    </tr>\n",
              "    <tr>\n",
              "      <th>1</th>\n",
              "      <td>cundinamarca</td>\n",
              "      <td>cogua</td>\n",
              "      <td>arcilla</td>\n",
              "      <td>páramo</td>\n",
              "      <td>Movimiento en masa</td>\n",
              "      <td>subterránea y cielo abierto</td>\n",
              "    </tr>\n",
              "    <tr>\n",
              "      <th>2</th>\n",
              "      <td>cundinamarca</td>\n",
              "      <td>soacha</td>\n",
              "      <td>arenas y gravas</td>\n",
              "      <td>páramo</td>\n",
              "      <td>Movimiento en masa</td>\n",
              "      <td>subterránea y cielo abierto</td>\n",
              "    </tr>\n",
              "    <tr>\n",
              "      <th>3</th>\n",
              "      <td>cundinamarca</td>\n",
              "      <td>caqueza</td>\n",
              "      <td>arenas y gravas</td>\n",
              "      <td>bosques andinos</td>\n",
              "      <td>Movimiento en masa</td>\n",
              "      <td>subterránea y cielo abierto</td>\n",
              "    </tr>\n",
              "    <tr>\n",
              "      <th>4</th>\n",
              "      <td>cundinamarca</td>\n",
              "      <td>ubala</td>\n",
              "      <td>arenas y gravas</td>\n",
              "      <td>bosques andinos</td>\n",
              "      <td>Movimiento en masa</td>\n",
              "      <td>subterránea y cielo abierto</td>\n",
              "    </tr>\n",
              "    <tr>\n",
              "      <th>5</th>\n",
              "      <td>cundinamarca</td>\n",
              "      <td>gachela</td>\n",
              "      <td>arenas y gravas</td>\n",
              "      <td>bosques andinos</td>\n",
              "      <td>Movimiento en masa</td>\n",
              "      <td>subterránea y cielo abierto</td>\n",
              "    </tr>\n",
              "    <tr>\n",
              "      <th>6</th>\n",
              "      <td>valle del cauca</td>\n",
              "      <td>buenaventura</td>\n",
              "      <td>oro</td>\n",
              "      <td>bosques andinos</td>\n",
              "      <td>Sedimentacion</td>\n",
              "      <td>aluvión y subterránea</td>\n",
              "    </tr>\n",
              "    <tr>\n",
              "      <th>7</th>\n",
              "      <td>valle del cauca</td>\n",
              "      <td>yumbo</td>\n",
              "      <td>carbón</td>\n",
              "      <td>bosques andinos</td>\n",
              "      <td>Movimiento en masa y Sedimentación</td>\n",
              "      <td>subterránea</td>\n",
              "    </tr>\n",
              "    <tr>\n",
              "      <th>8</th>\n",
              "      <td>valle del cauca</td>\n",
              "      <td>yumbo</td>\n",
              "      <td>calizas</td>\n",
              "      <td>bosques andinos</td>\n",
              "      <td>Movimiento en masa y Sedimentación</td>\n",
              "      <td>subterránea</td>\n",
              "    </tr>\n",
              "    <tr>\n",
              "      <th>9</th>\n",
              "      <td>valle del cauca</td>\n",
              "      <td>jamundi</td>\n",
              "      <td>carbón</td>\n",
              "      <td>NaN</td>\n",
              "      <td>Sedimentación</td>\n",
              "      <td>subterránea</td>\n",
              "    </tr>\n",
              "    <tr>\n",
              "      <th>10</th>\n",
              "      <td>valle del cauca</td>\n",
              "      <td>la victoria</td>\n",
              "      <td>arcilla</td>\n",
              "      <td>NaN</td>\n",
              "      <td>Sedimentación</td>\n",
              "      <td>subterránea y cielo abierto</td>\n",
              "    </tr>\n",
              "    <tr>\n",
              "      <th>11</th>\n",
              "      <td>valle del cauca</td>\n",
              "      <td>la victoria</td>\n",
              "      <td>arenas y gravas</td>\n",
              "      <td>NaN</td>\n",
              "      <td>Sedimentación</td>\n",
              "      <td>subterránea y cielo abierto</td>\n",
              "    </tr>\n",
              "    <tr>\n",
              "      <th>12</th>\n",
              "      <td>valle del cauca</td>\n",
              "      <td>obando</td>\n",
              "      <td>recebos</td>\n",
              "      <td>NaN</td>\n",
              "      <td>Sedimentación</td>\n",
              "      <td>subterránea</td>\n",
              "    </tr>\n",
              "    <tr>\n",
              "      <th>13</th>\n",
              "      <td>valle del cauca</td>\n",
              "      <td>cali</td>\n",
              "      <td>carbón</td>\n",
              "      <td>NaN</td>\n",
              "      <td>Sedimentación</td>\n",
              "      <td>subterránea</td>\n",
              "    </tr>\n",
              "    <tr>\n",
              "      <th>14</th>\n",
              "      <td>valle del cauca</td>\n",
              "      <td>dagua</td>\n",
              "      <td>arenas y gravas</td>\n",
              "      <td>bosques andinos</td>\n",
              "      <td>Movimiento en masa</td>\n",
              "      <td>subterránea</td>\n",
              "    </tr>\n",
              "    <tr>\n",
              "      <th>15</th>\n",
              "      <td>valle del cauca</td>\n",
              "      <td>palmira</td>\n",
              "      <td>oro</td>\n",
              "      <td>páramo</td>\n",
              "      <td>Movimiento en masa</td>\n",
              "      <td>aluvión y subterránea</td>\n",
              "    </tr>\n",
              "    <tr>\n",
              "      <th>16</th>\n",
              "      <td>nariño</td>\n",
              "      <td>gauchavéz</td>\n",
              "      <td>metales preciosos</td>\n",
              "      <td>NaN</td>\n",
              "      <td>Movimiento en masa</td>\n",
              "      <td>aluvión y subterránea</td>\n",
              "    </tr>\n",
              "    <tr>\n",
              "      <th>17</th>\n",
              "      <td>nariño</td>\n",
              "      <td>la llanada</td>\n",
              "      <td>metales preciosos</td>\n",
              "      <td>bosques andinos y páramo</td>\n",
              "      <td>Movimiento en masa</td>\n",
              "      <td>aluvión y subterránea</td>\n",
              "    </tr>\n",
              "    <tr>\n",
              "      <th>18</th>\n",
              "      <td>nariño</td>\n",
              "      <td>leiva</td>\n",
              "      <td>metales preciosos</td>\n",
              "      <td>NaN</td>\n",
              "      <td>Sedimentación</td>\n",
              "      <td>aluvión y subterránea</td>\n",
              "    </tr>\n",
              "    <tr>\n",
              "      <th>19</th>\n",
              "      <td>nariño</td>\n",
              "      <td>pasto</td>\n",
              "      <td>recebos</td>\n",
              "      <td>NaN</td>\n",
              "      <td>Sedimentación</td>\n",
              "      <td>subterránea y cielo abierto</td>\n",
              "    </tr>\n",
              "    <tr>\n",
              "      <th>20</th>\n",
              "      <td>nariño</td>\n",
              "      <td>piedracha</td>\n",
              "      <td>metales preciosos</td>\n",
              "      <td>NaN</td>\n",
              "      <td>Sedimentación</td>\n",
              "      <td>aluvión y subterránea</td>\n",
              "    </tr>\n",
              "    <tr>\n",
              "      <th>21</th>\n",
              "      <td>nariño</td>\n",
              "      <td>potosí</td>\n",
              "      <td>metales preciosos</td>\n",
              "      <td>NaN</td>\n",
              "      <td>Sedimentación</td>\n",
              "      <td>aluvión y subterránea</td>\n",
              "    </tr>\n",
              "    <tr>\n",
              "      <th>22</th>\n",
              "      <td>nariño</td>\n",
              "      <td>barbacoas</td>\n",
              "      <td>metales preciosos</td>\n",
              "      <td>NaN</td>\n",
              "      <td>Sedimentación</td>\n",
              "      <td>aluvión y subterránea</td>\n",
              "    </tr>\n",
              "    <tr>\n",
              "      <th>23</th>\n",
              "      <td>nariño</td>\n",
              "      <td>payán</td>\n",
              "      <td>metales preciosos</td>\n",
              "      <td>NaN</td>\n",
              "      <td>Sedimentación</td>\n",
              "      <td>aluvión y subterránea</td>\n",
              "    </tr>\n",
              "    <tr>\n",
              "      <th>24</th>\n",
              "      <td>nariño</td>\n",
              "      <td>cumbitará</td>\n",
              "      <td>oro</td>\n",
              "      <td>NaN</td>\n",
              "      <td>Sedimentación</td>\n",
              "      <td>aluvión y subterránea</td>\n",
              "    </tr>\n",
              "    <tr>\n",
              "      <th>25</th>\n",
              "      <td>nariño</td>\n",
              "      <td>cumbitará</td>\n",
              "      <td>plata</td>\n",
              "      <td>NaN</td>\n",
              "      <td>Sedimentación</td>\n",
              "      <td>aluvión y subterránea</td>\n",
              "    </tr>\n",
              "    <tr>\n",
              "      <th>26</th>\n",
              "      <td>córdoba</td>\n",
              "      <td>monteria</td>\n",
              "      <td>arenas y gravas</td>\n",
              "      <td>bosques de galería y riparios</td>\n",
              "      <td>Movimiento en masa y Sedimentación</td>\n",
              "      <td>aluvión y cielo abierto</td>\n",
              "    </tr>\n",
              "    <tr>\n",
              "      <th>27</th>\n",
              "      <td>córdoba</td>\n",
              "      <td>san carlos</td>\n",
              "      <td>arenas y gravas</td>\n",
              "      <td>ecosistemas secos</td>\n",
              "      <td>Movimiento en masa y Sedimentación</td>\n",
              "      <td>aluvión y cielo abierto</td>\n",
              "    </tr>\n",
              "    <tr>\n",
              "      <th>28</th>\n",
              "      <td>córdoba</td>\n",
              "      <td>san carlos</td>\n",
              "      <td>oro</td>\n",
              "      <td>ecosistemas secos</td>\n",
              "      <td>Movimiento en masa y Sedimentación</td>\n",
              "      <td>aluvión y cielo abierto</td>\n",
              "    </tr>\n",
              "    <tr>\n",
              "      <th>29</th>\n",
              "      <td>córdoba</td>\n",
              "      <td>san carlos</td>\n",
              "      <td>carbón</td>\n",
              "      <td>ecosistemas secos</td>\n",
              "      <td>Movimiento en masa y Sedimentación</td>\n",
              "      <td>aluvión y cielo abierto</td>\n",
              "    </tr>\n",
              "  </tbody>\n",
              "</table>\n",
              "</div>"
            ],
            "text/plain": [
              "       DEPARTAMENTO  ...            METODO_EXTRACCION\n",
              "0      cundinamarca  ...  subterránea y cielo abierto\n",
              "1      cundinamarca  ...  subterránea y cielo abierto\n",
              "2      cundinamarca  ...  subterránea y cielo abierto\n",
              "3      cundinamarca  ...  subterránea y cielo abierto\n",
              "4      cundinamarca  ...  subterránea y cielo abierto\n",
              "5      cundinamarca  ...  subterránea y cielo abierto\n",
              "6   valle del cauca  ...        aluvión y subterránea\n",
              "7   valle del cauca  ...                  subterránea\n",
              "8   valle del cauca  ...                  subterránea\n",
              "9   valle del cauca  ...                  subterránea\n",
              "10  valle del cauca  ...  subterránea y cielo abierto\n",
              "11  valle del cauca  ...  subterránea y cielo abierto\n",
              "12  valle del cauca  ...                  subterránea\n",
              "13  valle del cauca  ...                  subterránea\n",
              "14  valle del cauca  ...                  subterránea\n",
              "15  valle del cauca  ...        aluvión y subterránea\n",
              "16           nariño  ...        aluvión y subterránea\n",
              "17           nariño  ...        aluvión y subterránea\n",
              "18           nariño  ...        aluvión y subterránea\n",
              "19           nariño  ...  subterránea y cielo abierto\n",
              "20           nariño  ...        aluvión y subterránea\n",
              "21           nariño  ...        aluvión y subterránea\n",
              "22           nariño  ...        aluvión y subterránea\n",
              "23           nariño  ...        aluvión y subterránea\n",
              "24           nariño  ...        aluvión y subterránea\n",
              "25           nariño  ...        aluvión y subterránea\n",
              "26          córdoba  ...      aluvión y cielo abierto\n",
              "27          córdoba  ...      aluvión y cielo abierto\n",
              "28          córdoba  ...      aluvión y cielo abierto\n",
              "29          córdoba  ...      aluvión y cielo abierto\n",
              "\n",
              "[30 rows x 6 columns]"
            ]
          },
          "metadata": {
            "tags": []
          },
          "execution_count": 46
        }
      ]
    },
    {
      "cell_type": "markdown",
      "metadata": {
        "id": "qbAkf0WdKYSB"
      },
      "source": [
        "imprimir los últimos 30 Registros"
      ]
    },
    {
      "cell_type": "code",
      "metadata": {
        "colab": {
          "base_uri": "https://localhost:8080/",
          "height": 1000
        },
        "id": "jR3WxTs6KcG7",
        "outputId": "94fe5c0c-399c-4327-a9b3-f20ba02fc8ff"
      },
      "source": [
        "df.tail(30)"
      ],
      "execution_count": null,
      "outputs": [
        {
          "output_type": "execute_result",
          "data": {
            "text/html": [
              "<div>\n",
              "<style scoped>\n",
              "    .dataframe tbody tr th:only-of-type {\n",
              "        vertical-align: middle;\n",
              "    }\n",
              "\n",
              "    .dataframe tbody tr th {\n",
              "        vertical-align: top;\n",
              "    }\n",
              "\n",
              "    .dataframe thead th {\n",
              "        text-align: right;\n",
              "    }\n",
              "</style>\n",
              "<table border=\"1\" class=\"dataframe\">\n",
              "  <thead>\n",
              "    <tr style=\"text-align: right;\">\n",
              "      <th></th>\n",
              "      <th>DEPARTAMENTO</th>\n",
              "      <th>MUNICIPIO</th>\n",
              "      <th>MINERAL</th>\n",
              "      <th>ECOS_POTENC_AFECTADOS</th>\n",
              "      <th>IMPACTOS</th>\n",
              "      <th>METODO_EXTRACCION</th>\n",
              "    </tr>\n",
              "  </thead>\n",
              "  <tbody>\n",
              "    <tr>\n",
              "      <th>146</th>\n",
              "      <td>risaralda</td>\n",
              "      <td>quinchia</td>\n",
              "      <td>recebos</td>\n",
              "      <td>NaN</td>\n",
              "      <td>sedimentación</td>\n",
              "      <td>aluvión y cielo abierto</td>\n",
              "    </tr>\n",
              "    <tr>\n",
              "      <th>147</th>\n",
              "      <td>risaralda</td>\n",
              "      <td>quinchia</td>\n",
              "      <td>arcilla</td>\n",
              "      <td>NaN</td>\n",
              "      <td>sedimentación</td>\n",
              "      <td>aluvión y cielo abierto</td>\n",
              "    </tr>\n",
              "    <tr>\n",
              "      <th>148</th>\n",
              "      <td>risaralda</td>\n",
              "      <td>mistrató</td>\n",
              "      <td>oro</td>\n",
              "      <td>NaN</td>\n",
              "      <td>sedimentación</td>\n",
              "      <td>aluvión y subterránea</td>\n",
              "    </tr>\n",
              "    <tr>\n",
              "      <th>149</th>\n",
              "      <td>risaralda</td>\n",
              "      <td>mistrató</td>\n",
              "      <td>arenas y gravas</td>\n",
              "      <td>NaN</td>\n",
              "      <td>sedimentación</td>\n",
              "      <td>aluvión y cielo abierto</td>\n",
              "    </tr>\n",
              "    <tr>\n",
              "      <th>150</th>\n",
              "      <td>risaralda</td>\n",
              "      <td>guatica</td>\n",
              "      <td>recebos</td>\n",
              "      <td>NaN</td>\n",
              "      <td>sedimentación</td>\n",
              "      <td>aluvión y cielo abierto</td>\n",
              "    </tr>\n",
              "    <tr>\n",
              "      <th>151</th>\n",
              "      <td>risaralda</td>\n",
              "      <td>pueblo rico</td>\n",
              "      <td>recebos</td>\n",
              "      <td>NaN</td>\n",
              "      <td>sedimentación</td>\n",
              "      <td>aluvión y cielo abierto</td>\n",
              "    </tr>\n",
              "    <tr>\n",
              "      <th>152</th>\n",
              "      <td>risaralda</td>\n",
              "      <td>apia</td>\n",
              "      <td>arenas y gravas</td>\n",
              "      <td>NaN</td>\n",
              "      <td>sedimentación</td>\n",
              "      <td>aluvión y cielo abierto</td>\n",
              "    </tr>\n",
              "    <tr>\n",
              "      <th>153</th>\n",
              "      <td>risaralda</td>\n",
              "      <td>santuario</td>\n",
              "      <td>recebos</td>\n",
              "      <td>NaN</td>\n",
              "      <td>sedimentación</td>\n",
              "      <td>aluvión y cielo abierto</td>\n",
              "    </tr>\n",
              "    <tr>\n",
              "      <th>154</th>\n",
              "      <td>risaralda</td>\n",
              "      <td>santuario</td>\n",
              "      <td>arenas y gravas</td>\n",
              "      <td>NaN</td>\n",
              "      <td>sedimentación</td>\n",
              "      <td>aluvión y cielo abierto</td>\n",
              "    </tr>\n",
              "    <tr>\n",
              "      <th>155</th>\n",
              "      <td>risaralda</td>\n",
              "      <td>la virginia</td>\n",
              "      <td>arenas y gravas</td>\n",
              "      <td>NaN</td>\n",
              "      <td>sedimentación</td>\n",
              "      <td>aluvión y cielo abierto</td>\n",
              "    </tr>\n",
              "    <tr>\n",
              "      <th>156</th>\n",
              "      <td>risaralda</td>\n",
              "      <td>balboa</td>\n",
              "      <td>recebos</td>\n",
              "      <td>NaN</td>\n",
              "      <td>sedimentación</td>\n",
              "      <td>aluvión y cielo abierto</td>\n",
              "    </tr>\n",
              "    <tr>\n",
              "      <th>157</th>\n",
              "      <td>risaralda</td>\n",
              "      <td>pereira</td>\n",
              "      <td>recebos</td>\n",
              "      <td>NaN</td>\n",
              "      <td>sedimentación</td>\n",
              "      <td>aluvión y cielo abierto</td>\n",
              "    </tr>\n",
              "    <tr>\n",
              "      <th>158</th>\n",
              "      <td>risaralda</td>\n",
              "      <td>pereira</td>\n",
              "      <td>arenas y gravas</td>\n",
              "      <td>NaN</td>\n",
              "      <td>sedimentación</td>\n",
              "      <td>aluvión y cielo abierto</td>\n",
              "    </tr>\n",
              "    <tr>\n",
              "      <th>159</th>\n",
              "      <td>risaralda</td>\n",
              "      <td>dos quebradas</td>\n",
              "      <td>arenas y gravas</td>\n",
              "      <td>NaN</td>\n",
              "      <td>sedimentación</td>\n",
              "      <td>aluvión y cielo abierto</td>\n",
              "    </tr>\n",
              "    <tr>\n",
              "      <th>160</th>\n",
              "      <td>risaralda</td>\n",
              "      <td>santa rosa del cabal</td>\n",
              "      <td>recebos</td>\n",
              "      <td>NaN</td>\n",
              "      <td>sedimentación</td>\n",
              "      <td>aluvión y cielo abierto</td>\n",
              "    </tr>\n",
              "    <tr>\n",
              "      <th>161</th>\n",
              "      <td>risaralda</td>\n",
              "      <td>santa rosa del cabal</td>\n",
              "      <td>arenas y gravas</td>\n",
              "      <td>NaN</td>\n",
              "      <td>sedimentación</td>\n",
              "      <td>aluvión y cielo abierto</td>\n",
              "    </tr>\n",
              "    <tr>\n",
              "      <th>162</th>\n",
              "      <td>tolima</td>\n",
              "      <td>carmen de apicalá</td>\n",
              "      <td>arenas y gravas</td>\n",
              "      <td>NaN</td>\n",
              "      <td>sedimentación</td>\n",
              "      <td>aluvión y cielo abierto</td>\n",
              "    </tr>\n",
              "    <tr>\n",
              "      <th>163</th>\n",
              "      <td>tolima</td>\n",
              "      <td>casablanca</td>\n",
              "      <td>materiales preciosos</td>\n",
              "      <td>NaN</td>\n",
              "      <td>sedimentación</td>\n",
              "      <td>aluvión y subterránea</td>\n",
              "    </tr>\n",
              "    <tr>\n",
              "      <th>164</th>\n",
              "      <td>tolima</td>\n",
              "      <td>coello</td>\n",
              "      <td>arenas y gravas</td>\n",
              "      <td>NaN</td>\n",
              "      <td>sedimentación</td>\n",
              "      <td>aluvión y cielo abierto</td>\n",
              "    </tr>\n",
              "    <tr>\n",
              "      <th>165</th>\n",
              "      <td>tolima</td>\n",
              "      <td>ibagué</td>\n",
              "      <td>arenas y gravas</td>\n",
              "      <td>NaN</td>\n",
              "      <td>sedimentación</td>\n",
              "      <td>aluvión y cielo abierto</td>\n",
              "    </tr>\n",
              "    <tr>\n",
              "      <th>166</th>\n",
              "      <td>tolima</td>\n",
              "      <td>rovirá</td>\n",
              "      <td>arenas y gravas</td>\n",
              "      <td>NaN</td>\n",
              "      <td>sedimentación</td>\n",
              "      <td>aluvión y cielo abierto</td>\n",
              "    </tr>\n",
              "    <tr>\n",
              "      <th>167</th>\n",
              "      <td>tolima</td>\n",
              "      <td>san luis</td>\n",
              "      <td>arenas y gravas</td>\n",
              "      <td>NaN</td>\n",
              "      <td>sedimentación</td>\n",
              "      <td>aluvión y cielo abierto</td>\n",
              "    </tr>\n",
              "    <tr>\n",
              "      <th>168</th>\n",
              "      <td>tolima</td>\n",
              "      <td>coyaima</td>\n",
              "      <td>materiales preciosos</td>\n",
              "      <td>NaN</td>\n",
              "      <td>sedimentación</td>\n",
              "      <td>aluvión y subterránea</td>\n",
              "    </tr>\n",
              "    <tr>\n",
              "      <th>169</th>\n",
              "      <td>tolima</td>\n",
              "      <td>chaparral</td>\n",
              "      <td>materiales preciosos</td>\n",
              "      <td>NaN</td>\n",
              "      <td>sedimentación</td>\n",
              "      <td>aluvión y subterránea</td>\n",
              "    </tr>\n",
              "    <tr>\n",
              "      <th>170</th>\n",
              "      <td>tolima</td>\n",
              "      <td>tolima</td>\n",
              "      <td>materiales preciosos</td>\n",
              "      <td>NaN</td>\n",
              "      <td>sedimentación</td>\n",
              "      <td>aluvión y subterránea</td>\n",
              "    </tr>\n",
              "    <tr>\n",
              "      <th>171</th>\n",
              "      <td>tolima</td>\n",
              "      <td>ronsesvalles</td>\n",
              "      <td>materiales preciosos</td>\n",
              "      <td>NaN</td>\n",
              "      <td>sedimentación</td>\n",
              "      <td>aluvión y subterránea</td>\n",
              "    </tr>\n",
              "    <tr>\n",
              "      <th>172</th>\n",
              "      <td>tolima</td>\n",
              "      <td>saldaña</td>\n",
              "      <td>materiales preciosos</td>\n",
              "      <td>NaN</td>\n",
              "      <td>sedimentación</td>\n",
              "      <td>aluvión y subterránea</td>\n",
              "    </tr>\n",
              "    <tr>\n",
              "      <th>173</th>\n",
              "      <td>tolima</td>\n",
              "      <td>villahermosa</td>\n",
              "      <td>materiales preciosos</td>\n",
              "      <td>NaN</td>\n",
              "      <td>sedimentación</td>\n",
              "      <td>aluvión y subterránea</td>\n",
              "    </tr>\n",
              "    <tr>\n",
              "      <th>174</th>\n",
              "      <td>magdalena</td>\n",
              "      <td>ciénaga</td>\n",
              "      <td>arenas y gravas</td>\n",
              "      <td>NaN</td>\n",
              "      <td>Movimiento en masa y Sedimentación</td>\n",
              "      <td>aluvión</td>\n",
              "    </tr>\n",
              "    <tr>\n",
              "      <th>175</th>\n",
              "      <td>magdalena</td>\n",
              "      <td>fundación</td>\n",
              "      <td>materiales preciosos</td>\n",
              "      <td>NaN</td>\n",
              "      <td>Movimiento en masa y Sedimentación</td>\n",
              "      <td>aluvión y subterránea</td>\n",
              "    </tr>\n",
              "  </tbody>\n",
              "</table>\n",
              "</div>"
            ],
            "text/plain": [
              "    DEPARTAMENTO  ...        METODO_EXTRACCION\n",
              "146    risaralda  ...  aluvión y cielo abierto\n",
              "147    risaralda  ...  aluvión y cielo abierto\n",
              "148    risaralda  ...    aluvión y subterránea\n",
              "149    risaralda  ...  aluvión y cielo abierto\n",
              "150    risaralda  ...  aluvión y cielo abierto\n",
              "151    risaralda  ...  aluvión y cielo abierto\n",
              "152    risaralda  ...  aluvión y cielo abierto\n",
              "153    risaralda  ...  aluvión y cielo abierto\n",
              "154    risaralda  ...  aluvión y cielo abierto\n",
              "155    risaralda  ...  aluvión y cielo abierto\n",
              "156    risaralda  ...  aluvión y cielo abierto\n",
              "157    risaralda  ...  aluvión y cielo abierto\n",
              "158    risaralda  ...  aluvión y cielo abierto\n",
              "159    risaralda  ...  aluvión y cielo abierto\n",
              "160    risaralda  ...  aluvión y cielo abierto\n",
              "161    risaralda  ...  aluvión y cielo abierto\n",
              "162       tolima  ...  aluvión y cielo abierto\n",
              "163       tolima  ...    aluvión y subterránea\n",
              "164       tolima  ...  aluvión y cielo abierto\n",
              "165       tolima  ...  aluvión y cielo abierto\n",
              "166       tolima  ...  aluvión y cielo abierto\n",
              "167       tolima  ...  aluvión y cielo abierto\n",
              "168       tolima  ...    aluvión y subterránea\n",
              "169       tolima  ...    aluvión y subterránea\n",
              "170       tolima  ...    aluvión y subterránea\n",
              "171       tolima  ...    aluvión y subterránea\n",
              "172       tolima  ...    aluvión y subterránea\n",
              "173       tolima  ...    aluvión y subterránea\n",
              "174    magdalena  ...                  aluvión\n",
              "175    magdalena  ...    aluvión y subterránea\n",
              "\n",
              "[30 rows x 6 columns]"
            ]
          },
          "metadata": {
            "tags": []
          },
          "execution_count": 47
        }
      ]
    },
    {
      "cell_type": "markdown",
      "metadata": {
        "id": "Hno5TINCKpR8"
      },
      "source": [
        "Forma del DataFrame"
      ]
    },
    {
      "cell_type": "code",
      "metadata": {
        "colab": {
          "base_uri": "https://localhost:8080/"
        },
        "id": "I19HMsIMKqjC",
        "outputId": "7f15fd17-9b5e-4a76-b2b4-c9489cf3bdbc"
      },
      "source": [
        "df.shape"
      ],
      "execution_count": null,
      "outputs": [
        {
          "output_type": "execute_result",
          "data": {
            "text/plain": [
              "(176, 6)"
            ]
          },
          "metadata": {
            "tags": []
          },
          "execution_count": 48
        }
      ]
    },
    {
      "cell_type": "markdown",
      "metadata": {
        "id": "0KNsh-oqKvRg"
      },
      "source": [
        "Altura del DataFrame"
      ]
    },
    {
      "cell_type": "code",
      "metadata": {
        "colab": {
          "base_uri": "https://localhost:8080/"
        },
        "id": "HSDLI00YKway",
        "outputId": "6a625218-b8e3-4b8c-f4b1-a74428927b27"
      },
      "source": [
        "len(df.index)"
      ],
      "execution_count": null,
      "outputs": [
        {
          "output_type": "execute_result",
          "data": {
            "text/plain": [
              "176"
            ]
          },
          "metadata": {
            "tags": []
          },
          "execution_count": 49
        }
      ]
    },
    {
      "cell_type": "markdown",
      "metadata": {
        "id": "W936n-ZcK5Du"
      },
      "source": [
        "Cuenta los datos del DataFrame"
      ]
    },
    {
      "cell_type": "code",
      "metadata": {
        "colab": {
          "base_uri": "https://localhost:8080/",
          "height": 204
        },
        "id": "fiDV9eDOK505",
        "outputId": "c7ecbd86-7dfa-4615-fb35-17d9e30d88ed"
      },
      "source": [
        "df.describe()"
      ],
      "execution_count": null,
      "outputs": [
        {
          "output_type": "execute_result",
          "data": {
            "text/html": [
              "<div>\n",
              "<style scoped>\n",
              "    .dataframe tbody tr th:only-of-type {\n",
              "        vertical-align: middle;\n",
              "    }\n",
              "\n",
              "    .dataframe tbody tr th {\n",
              "        vertical-align: top;\n",
              "    }\n",
              "\n",
              "    .dataframe thead th {\n",
              "        text-align: right;\n",
              "    }\n",
              "</style>\n",
              "<table border=\"1\" class=\"dataframe\">\n",
              "  <thead>\n",
              "    <tr style=\"text-align: right;\">\n",
              "      <th></th>\n",
              "      <th>DEPARTAMENTO</th>\n",
              "      <th>MUNICIPIO</th>\n",
              "      <th>MINERAL</th>\n",
              "      <th>ECOS_POTENC_AFECTADOS</th>\n",
              "      <th>IMPACTOS</th>\n",
              "      <th>METODO_EXTRACCION</th>\n",
              "    </tr>\n",
              "  </thead>\n",
              "  <tbody>\n",
              "    <tr>\n",
              "      <th>count</th>\n",
              "      <td>176</td>\n",
              "      <td>176</td>\n",
              "      <td>176</td>\n",
              "      <td>47</td>\n",
              "      <td>176</td>\n",
              "      <td>173</td>\n",
              "    </tr>\n",
              "    <tr>\n",
              "      <th>unique</th>\n",
              "      <td>16</td>\n",
              "      <td>142</td>\n",
              "      <td>19</td>\n",
              "      <td>9</td>\n",
              "      <td>6</td>\n",
              "      <td>7</td>\n",
              "    </tr>\n",
              "    <tr>\n",
              "      <th>top</th>\n",
              "      <td>chocó</td>\n",
              "      <td>tambo</td>\n",
              "      <td>arenas y gravas</td>\n",
              "      <td>bosques andinos</td>\n",
              "      <td>sedimentación</td>\n",
              "      <td>aluvión y subterránea</td>\n",
              "    </tr>\n",
              "    <tr>\n",
              "      <th>freq</th>\n",
              "      <td>34</td>\n",
              "      <td>4</td>\n",
              "      <td>57</td>\n",
              "      <td>20</td>\n",
              "      <td>89</td>\n",
              "      <td>98</td>\n",
              "    </tr>\n",
              "  </tbody>\n",
              "</table>\n",
              "</div>"
            ],
            "text/plain": [
              "       DEPARTAMENTO MUNICIPIO  ...       IMPACTOS      METODO_EXTRACCION\n",
              "count           176       176  ...            176                    173\n",
              "unique           16       142  ...              6                      7\n",
              "top           chocó     tambo  ...  sedimentación  aluvión y subterránea\n",
              "freq             34         4  ...             89                     98\n",
              "\n",
              "[4 rows x 6 columns]"
            ]
          },
          "metadata": {
            "tags": []
          },
          "execution_count": 50
        }
      ]
    },
    {
      "cell_type": "markdown",
      "metadata": {
        "id": "XwOJlZ3OLMK8"
      },
      "source": [
        "Revisar datos nulos"
      ]
    },
    {
      "cell_type": "code",
      "metadata": {
        "colab": {
          "base_uri": "https://localhost:8080/",
          "height": 426
        },
        "id": "_WSjG-mNLSm8",
        "outputId": "5b3e6afc-34c2-4115-bf3a-e568dbd0ba14"
      },
      "source": [
        "df.isnull()"
      ],
      "execution_count": null,
      "outputs": [
        {
          "output_type": "execute_result",
          "data": {
            "text/html": [
              "<div>\n",
              "<style scoped>\n",
              "    .dataframe tbody tr th:only-of-type {\n",
              "        vertical-align: middle;\n",
              "    }\n",
              "\n",
              "    .dataframe tbody tr th {\n",
              "        vertical-align: top;\n",
              "    }\n",
              "\n",
              "    .dataframe thead th {\n",
              "        text-align: right;\n",
              "    }\n",
              "</style>\n",
              "<table border=\"1\" class=\"dataframe\">\n",
              "  <thead>\n",
              "    <tr style=\"text-align: right;\">\n",
              "      <th></th>\n",
              "      <th>DEPARTAMENTO</th>\n",
              "      <th>MUNICIPIO</th>\n",
              "      <th>MINERAL</th>\n",
              "      <th>ECOS_POTENC_AFECTADOS</th>\n",
              "      <th>IMPACTOS</th>\n",
              "      <th>METODO_EXTRACCION</th>\n",
              "    </tr>\n",
              "  </thead>\n",
              "  <tbody>\n",
              "    <tr>\n",
              "      <th>0</th>\n",
              "      <td>False</td>\n",
              "      <td>False</td>\n",
              "      <td>False</td>\n",
              "      <td>False</td>\n",
              "      <td>False</td>\n",
              "      <td>False</td>\n",
              "    </tr>\n",
              "    <tr>\n",
              "      <th>1</th>\n",
              "      <td>False</td>\n",
              "      <td>False</td>\n",
              "      <td>False</td>\n",
              "      <td>False</td>\n",
              "      <td>False</td>\n",
              "      <td>False</td>\n",
              "    </tr>\n",
              "    <tr>\n",
              "      <th>2</th>\n",
              "      <td>False</td>\n",
              "      <td>False</td>\n",
              "      <td>False</td>\n",
              "      <td>False</td>\n",
              "      <td>False</td>\n",
              "      <td>False</td>\n",
              "    </tr>\n",
              "    <tr>\n",
              "      <th>3</th>\n",
              "      <td>False</td>\n",
              "      <td>False</td>\n",
              "      <td>False</td>\n",
              "      <td>False</td>\n",
              "      <td>False</td>\n",
              "      <td>False</td>\n",
              "    </tr>\n",
              "    <tr>\n",
              "      <th>4</th>\n",
              "      <td>False</td>\n",
              "      <td>False</td>\n",
              "      <td>False</td>\n",
              "      <td>False</td>\n",
              "      <td>False</td>\n",
              "      <td>False</td>\n",
              "    </tr>\n",
              "    <tr>\n",
              "      <th>...</th>\n",
              "      <td>...</td>\n",
              "      <td>...</td>\n",
              "      <td>...</td>\n",
              "      <td>...</td>\n",
              "      <td>...</td>\n",
              "      <td>...</td>\n",
              "    </tr>\n",
              "    <tr>\n",
              "      <th>171</th>\n",
              "      <td>False</td>\n",
              "      <td>False</td>\n",
              "      <td>False</td>\n",
              "      <td>True</td>\n",
              "      <td>False</td>\n",
              "      <td>False</td>\n",
              "    </tr>\n",
              "    <tr>\n",
              "      <th>172</th>\n",
              "      <td>False</td>\n",
              "      <td>False</td>\n",
              "      <td>False</td>\n",
              "      <td>True</td>\n",
              "      <td>False</td>\n",
              "      <td>False</td>\n",
              "    </tr>\n",
              "    <tr>\n",
              "      <th>173</th>\n",
              "      <td>False</td>\n",
              "      <td>False</td>\n",
              "      <td>False</td>\n",
              "      <td>True</td>\n",
              "      <td>False</td>\n",
              "      <td>False</td>\n",
              "    </tr>\n",
              "    <tr>\n",
              "      <th>174</th>\n",
              "      <td>False</td>\n",
              "      <td>False</td>\n",
              "      <td>False</td>\n",
              "      <td>True</td>\n",
              "      <td>False</td>\n",
              "      <td>False</td>\n",
              "    </tr>\n",
              "    <tr>\n",
              "      <th>175</th>\n",
              "      <td>False</td>\n",
              "      <td>False</td>\n",
              "      <td>False</td>\n",
              "      <td>True</td>\n",
              "      <td>False</td>\n",
              "      <td>False</td>\n",
              "    </tr>\n",
              "  </tbody>\n",
              "</table>\n",
              "<p>176 rows × 6 columns</p>\n",
              "</div>"
            ],
            "text/plain": [
              "     DEPARTAMENTO  MUNICIPIO  ...  IMPACTOS  METODO_EXTRACCION\n",
              "0           False      False  ...     False              False\n",
              "1           False      False  ...     False              False\n",
              "2           False      False  ...     False              False\n",
              "3           False      False  ...     False              False\n",
              "4           False      False  ...     False              False\n",
              "..            ...        ...  ...       ...                ...\n",
              "171         False      False  ...     False              False\n",
              "172         False      False  ...     False              False\n",
              "173         False      False  ...     False              False\n",
              "174         False      False  ...     False              False\n",
              "175         False      False  ...     False              False\n",
              "\n",
              "[176 rows x 6 columns]"
            ]
          },
          "metadata": {
            "tags": []
          },
          "execution_count": 51
        }
      ]
    },
    {
      "cell_type": "markdown",
      "metadata": {
        "id": "Wjp4-1zDjI9A"
      },
      "source": [
        "Suma de datos nulos"
      ]
    },
    {
      "cell_type": "code",
      "metadata": {
        "colab": {
          "base_uri": "https://localhost:8080/"
        },
        "id": "anuNKRvyQ4Kj",
        "outputId": "2ce12f6a-e58f-4622-b462-a8cc31a7bc22"
      },
      "source": [
        "df.isnull().sum()"
      ],
      "execution_count": null,
      "outputs": [
        {
          "output_type": "execute_result",
          "data": {
            "text/plain": [
              "DEPARTAMENTO               0\n",
              "MUNICIPIO                  0\n",
              "MINERAL                    0\n",
              "ECOS_POTENC_AFECTADOS    129\n",
              "IMPACTOS                   0\n",
              "METODO_EXTRACCION          3\n",
              "dtype: int64"
            ]
          },
          "metadata": {
            "tags": []
          },
          "execution_count": 52
        }
      ]
    },
    {
      "cell_type": "markdown",
      "metadata": {
        "id": "-WIUd-NljNuy"
      },
      "source": [
        "Imprimir el tipo de dato"
      ]
    },
    {
      "cell_type": "code",
      "metadata": {
        "colab": {
          "base_uri": "https://localhost:8080/"
        },
        "id": "BB1RdSIzQ-9Y",
        "outputId": "5753b54b-4fa7-418a-fab0-ebd20a79f844"
      },
      "source": [
        "df.dtypes"
      ],
      "execution_count": null,
      "outputs": [
        {
          "output_type": "execute_result",
          "data": {
            "text/plain": [
              "DEPARTAMENTO             object\n",
              "MUNICIPIO                object\n",
              "MINERAL                  object\n",
              "ECOS_POTENC_AFECTADOS    object\n",
              "IMPACTOS                 object\n",
              "METODO_EXTRACCION        object\n",
              "dtype: object"
            ]
          },
          "metadata": {
            "tags": []
          },
          "execution_count": 53
        }
      ]
    },
    {
      "cell_type": "markdown",
      "metadata": {
        "id": "quhOmeaNjXx2"
      },
      "source": [
        "Reemplazando los campos nulos o Nan por \"No aplica\""
      ]
    },
    {
      "cell_type": "code",
      "metadata": {
        "id": "TjrjRJr8bEUl"
      },
      "source": [
        "df.fillna(\"No aplica\",inplace=True)"
      ],
      "execution_count": null,
      "outputs": []
    },
    {
      "cell_type": "markdown",
      "metadata": {
        "id": "FVXnhh6q7ksT"
      },
      "source": [
        "Visualizar actualización"
      ]
    },
    {
      "cell_type": "code",
      "metadata": {
        "colab": {
          "base_uri": "https://localhost:8080/",
          "height": 227
        },
        "id": "v3C_2lkx72B9",
        "outputId": "ff6437b1-906d-42ed-bfda-c7be7a889d29"
      },
      "source": [
        "df.iloc[170:176, 3:6]"
      ],
      "execution_count": null,
      "outputs": [
        {
          "output_type": "execute_result",
          "data": {
            "text/html": [
              "<div>\n",
              "<style scoped>\n",
              "    .dataframe tbody tr th:only-of-type {\n",
              "        vertical-align: middle;\n",
              "    }\n",
              "\n",
              "    .dataframe tbody tr th {\n",
              "        vertical-align: top;\n",
              "    }\n",
              "\n",
              "    .dataframe thead th {\n",
              "        text-align: right;\n",
              "    }\n",
              "</style>\n",
              "<table border=\"1\" class=\"dataframe\">\n",
              "  <thead>\n",
              "    <tr style=\"text-align: right;\">\n",
              "      <th></th>\n",
              "      <th>ECOS_POTENC_AFECTADOS</th>\n",
              "      <th>IMPACTOS</th>\n",
              "      <th>METODO_EXTRACCION</th>\n",
              "    </tr>\n",
              "  </thead>\n",
              "  <tbody>\n",
              "    <tr>\n",
              "      <th>170</th>\n",
              "      <td>No aplica</td>\n",
              "      <td>sedimentación</td>\n",
              "      <td>aluvión y subterránea</td>\n",
              "    </tr>\n",
              "    <tr>\n",
              "      <th>171</th>\n",
              "      <td>No aplica</td>\n",
              "      <td>sedimentación</td>\n",
              "      <td>aluvión y subterránea</td>\n",
              "    </tr>\n",
              "    <tr>\n",
              "      <th>172</th>\n",
              "      <td>No aplica</td>\n",
              "      <td>sedimentación</td>\n",
              "      <td>aluvión y subterránea</td>\n",
              "    </tr>\n",
              "    <tr>\n",
              "      <th>173</th>\n",
              "      <td>No aplica</td>\n",
              "      <td>sedimentación</td>\n",
              "      <td>aluvión y subterránea</td>\n",
              "    </tr>\n",
              "    <tr>\n",
              "      <th>174</th>\n",
              "      <td>No aplica</td>\n",
              "      <td>Movimiento en masa y Sedimentación</td>\n",
              "      <td>aluvión</td>\n",
              "    </tr>\n",
              "    <tr>\n",
              "      <th>175</th>\n",
              "      <td>No aplica</td>\n",
              "      <td>Movimiento en masa y Sedimentación</td>\n",
              "      <td>aluvión y subterránea</td>\n",
              "    </tr>\n",
              "  </tbody>\n",
              "</table>\n",
              "</div>"
            ],
            "text/plain": [
              "    ECOS_POTENC_AFECTADOS  ...      METODO_EXTRACCION\n",
              "170             No aplica  ...  aluvión y subterránea\n",
              "171             No aplica  ...  aluvión y subterránea\n",
              "172             No aplica  ...  aluvión y subterránea\n",
              "173             No aplica  ...  aluvión y subterránea\n",
              "174             No aplica  ...                aluvión\n",
              "175             No aplica  ...  aluvión y subterránea\n",
              "\n",
              "[6 rows x 3 columns]"
            ]
          },
          "metadata": {
            "tags": []
          },
          "execution_count": 55
        }
      ]
    },
    {
      "cell_type": "code",
      "metadata": {
        "colab": {
          "base_uri": "https://localhost:8080/",
          "height": 324
        },
        "id": "PO_3N4RH82bg",
        "outputId": "58fc209c-109b-455f-d925-d74e1acdbb7d"
      },
      "source": [
        "df.iloc[69:76, 3:6]"
      ],
      "execution_count": null,
      "outputs": [
        {
          "output_type": "execute_result",
          "data": {
            "text/html": [
              "<div>\n",
              "<style scoped>\n",
              "    .dataframe tbody tr th:only-of-type {\n",
              "        vertical-align: middle;\n",
              "    }\n",
              "\n",
              "    .dataframe tbody tr th {\n",
              "        vertical-align: top;\n",
              "    }\n",
              "\n",
              "    .dataframe thead th {\n",
              "        text-align: right;\n",
              "    }\n",
              "</style>\n",
              "<table border=\"1\" class=\"dataframe\">\n",
              "  <thead>\n",
              "    <tr style=\"text-align: right;\">\n",
              "      <th></th>\n",
              "      <th>ECOS_POTENC_AFECTADOS</th>\n",
              "      <th>IMPACTOS</th>\n",
              "      <th>METODO_EXTRACCION</th>\n",
              "    </tr>\n",
              "  </thead>\n",
              "  <tbody>\n",
              "    <tr>\n",
              "      <th>69</th>\n",
              "      <td>bosques andinos</td>\n",
              "      <td>Movimiento en masa</td>\n",
              "      <td>No aplica</td>\n",
              "    </tr>\n",
              "    <tr>\n",
              "      <th>70</th>\n",
              "      <td>bosques andinos y selvas húmedas</td>\n",
              "      <td>Movimiento en masa</td>\n",
              "      <td>No aplica</td>\n",
              "    </tr>\n",
              "    <tr>\n",
              "      <th>71</th>\n",
              "      <td>selvas húmedas y sabanas y afloramientos rocosos</td>\n",
              "      <td>Movimiento en masa</td>\n",
              "      <td>No aplica</td>\n",
              "    </tr>\n",
              "    <tr>\n",
              "      <th>72</th>\n",
              "      <td>No aplica</td>\n",
              "      <td>Sedimentación</td>\n",
              "      <td>subterránea</td>\n",
              "    </tr>\n",
              "    <tr>\n",
              "      <th>73</th>\n",
              "      <td>bosques andinos</td>\n",
              "      <td>Sedimentación</td>\n",
              "      <td>subterránea y cielo abierto</td>\n",
              "    </tr>\n",
              "    <tr>\n",
              "      <th>74</th>\n",
              "      <td>bosques andinos</td>\n",
              "      <td>Movimiento en masa y Sedimentación</td>\n",
              "      <td>subterránea y cielo abierto</td>\n",
              "    </tr>\n",
              "    <tr>\n",
              "      <th>75</th>\n",
              "      <td>bosques andinos</td>\n",
              "      <td>Movimiento en masa y Sedimentación</td>\n",
              "      <td>subterránea y cielo abierto</td>\n",
              "    </tr>\n",
              "  </tbody>\n",
              "</table>\n",
              "</div>"
            ],
            "text/plain": [
              "                               ECOS_POTENC_AFECTADOS  ...            METODO_EXTRACCION\n",
              "69                                   bosques andinos  ...                    No aplica\n",
              "70                  bosques andinos y selvas húmedas  ...                    No aplica\n",
              "71  selvas húmedas y sabanas y afloramientos rocosos  ...                    No aplica\n",
              "72                                         No aplica  ...                  subterránea\n",
              "73                                   bosques andinos  ...  subterránea y cielo abierto\n",
              "74                                   bosques andinos  ...  subterránea y cielo abierto\n",
              "75                                   bosques andinos  ...  subterránea y cielo abierto\n",
              "\n",
              "[7 rows x 3 columns]"
            ]
          },
          "metadata": {
            "tags": []
          },
          "execution_count": 56
        }
      ]
    },
    {
      "cell_type": "markdown",
      "metadata": {
        "id": "xeQqHHzEVSdt"
      },
      "source": [
        "Eliminar columnas Departamento y municipio"
      ]
    },
    {
      "cell_type": "code",
      "metadata": {
        "id": "JvnED61CVe2S"
      },
      "source": [
        "df = df.drop(['DEPARTAMENTO' , 'MUNICIPIO'], axis=1)"
      ],
      "execution_count": null,
      "outputs": []
    },
    {
      "cell_type": "markdown",
      "metadata": {
        "id": "MHBX9zj7Zy5a"
      },
      "source": [
        "Forma del dataframe"
      ]
    },
    {
      "cell_type": "code",
      "metadata": {
        "colab": {
          "base_uri": "https://localhost:8080/"
        },
        "id": "xh3MSxsUfz4T",
        "outputId": "428aaf3b-87e7-44e7-b7aa-21ea8c560c79"
      },
      "source": [
        "df.shape"
      ],
      "execution_count": null,
      "outputs": [
        {
          "output_type": "execute_result",
          "data": {
            "text/plain": [
              "(176, 4)"
            ]
          },
          "metadata": {
            "tags": []
          },
          "execution_count": 58
        }
      ]
    },
    {
      "cell_type": "markdown",
      "metadata": {
        "id": "FGUHAevkmPqU"
      },
      "source": [
        "Convertir tipos de datos"
      ]
    },
    {
      "cell_type": "code",
      "metadata": {
        "colab": {
          "base_uri": "https://localhost:8080/"
        },
        "id": "Ts8O-bQamXtr",
        "outputId": "ae216c9e-ab9b-4e9e-c848-5268ba7d046c"
      },
      "source": [
        "df.convert_dtypes().dtypes"
      ],
      "execution_count": null,
      "outputs": [
        {
          "output_type": "execute_result",
          "data": {
            "text/plain": [
              "MINERAL                  string\n",
              "ECOS_POTENC_AFECTADOS    string\n",
              "IMPACTOS                 string\n",
              "METODO_EXTRACCION        string\n",
              "dtype: object"
            ]
          },
          "metadata": {
            "tags": []
          },
          "execution_count": 59
        }
      ]
    },
    {
      "cell_type": "markdown",
      "metadata": {
        "id": "l5R6E_urpTbI"
      },
      "source": [
        "Revisar que ya no queden campos Nan"
      ]
    },
    {
      "cell_type": "markdown",
      "metadata": {
        "id": "FhIvlkdBp98S"
      },
      "source": [
        "conocer datos nulos"
      ]
    },
    {
      "cell_type": "code",
      "metadata": {
        "colab": {
          "base_uri": "https://localhost:8080/",
          "height": 406
        },
        "id": "ylLfFj41r1Yg",
        "outputId": "73fe7270-bb9a-48a8-b6f6-d05a1cf177c7"
      },
      "source": [
        "df.isnull()"
      ],
      "execution_count": null,
      "outputs": [
        {
          "output_type": "execute_result",
          "data": {
            "text/html": [
              "<div>\n",
              "<style scoped>\n",
              "    .dataframe tbody tr th:only-of-type {\n",
              "        vertical-align: middle;\n",
              "    }\n",
              "\n",
              "    .dataframe tbody tr th {\n",
              "        vertical-align: top;\n",
              "    }\n",
              "\n",
              "    .dataframe thead th {\n",
              "        text-align: right;\n",
              "    }\n",
              "</style>\n",
              "<table border=\"1\" class=\"dataframe\">\n",
              "  <thead>\n",
              "    <tr style=\"text-align: right;\">\n",
              "      <th></th>\n",
              "      <th>MINERAL</th>\n",
              "      <th>ECOS_POTENC_AFECTADOS</th>\n",
              "      <th>IMPACTOS</th>\n",
              "      <th>METODO_EXTRACCION</th>\n",
              "    </tr>\n",
              "  </thead>\n",
              "  <tbody>\n",
              "    <tr>\n",
              "      <th>0</th>\n",
              "      <td>False</td>\n",
              "      <td>False</td>\n",
              "      <td>False</td>\n",
              "      <td>False</td>\n",
              "    </tr>\n",
              "    <tr>\n",
              "      <th>1</th>\n",
              "      <td>False</td>\n",
              "      <td>False</td>\n",
              "      <td>False</td>\n",
              "      <td>False</td>\n",
              "    </tr>\n",
              "    <tr>\n",
              "      <th>2</th>\n",
              "      <td>False</td>\n",
              "      <td>False</td>\n",
              "      <td>False</td>\n",
              "      <td>False</td>\n",
              "    </tr>\n",
              "    <tr>\n",
              "      <th>3</th>\n",
              "      <td>False</td>\n",
              "      <td>False</td>\n",
              "      <td>False</td>\n",
              "      <td>False</td>\n",
              "    </tr>\n",
              "    <tr>\n",
              "      <th>4</th>\n",
              "      <td>False</td>\n",
              "      <td>False</td>\n",
              "      <td>False</td>\n",
              "      <td>False</td>\n",
              "    </tr>\n",
              "    <tr>\n",
              "      <th>...</th>\n",
              "      <td>...</td>\n",
              "      <td>...</td>\n",
              "      <td>...</td>\n",
              "      <td>...</td>\n",
              "    </tr>\n",
              "    <tr>\n",
              "      <th>171</th>\n",
              "      <td>False</td>\n",
              "      <td>False</td>\n",
              "      <td>False</td>\n",
              "      <td>False</td>\n",
              "    </tr>\n",
              "    <tr>\n",
              "      <th>172</th>\n",
              "      <td>False</td>\n",
              "      <td>False</td>\n",
              "      <td>False</td>\n",
              "      <td>False</td>\n",
              "    </tr>\n",
              "    <tr>\n",
              "      <th>173</th>\n",
              "      <td>False</td>\n",
              "      <td>False</td>\n",
              "      <td>False</td>\n",
              "      <td>False</td>\n",
              "    </tr>\n",
              "    <tr>\n",
              "      <th>174</th>\n",
              "      <td>False</td>\n",
              "      <td>False</td>\n",
              "      <td>False</td>\n",
              "      <td>False</td>\n",
              "    </tr>\n",
              "    <tr>\n",
              "      <th>175</th>\n",
              "      <td>False</td>\n",
              "      <td>False</td>\n",
              "      <td>False</td>\n",
              "      <td>False</td>\n",
              "    </tr>\n",
              "  </tbody>\n",
              "</table>\n",
              "<p>176 rows × 4 columns</p>\n",
              "</div>"
            ],
            "text/plain": [
              "     MINERAL  ECOS_POTENC_AFECTADOS  IMPACTOS  METODO_EXTRACCION\n",
              "0      False                  False     False              False\n",
              "1      False                  False     False              False\n",
              "2      False                  False     False              False\n",
              "3      False                  False     False              False\n",
              "4      False                  False     False              False\n",
              "..       ...                    ...       ...                ...\n",
              "171    False                  False     False              False\n",
              "172    False                  False     False              False\n",
              "173    False                  False     False              False\n",
              "174    False                  False     False              False\n",
              "175    False                  False     False              False\n",
              "\n",
              "[176 rows x 4 columns]"
            ]
          },
          "metadata": {
            "tags": []
          },
          "execution_count": 60
        }
      ]
    },
    {
      "cell_type": "code",
      "metadata": {
        "colab": {
          "base_uri": "https://localhost:8080/"
        },
        "id": "o0sJznuQqLTT",
        "outputId": "ca2825d5-9426-4e94-d28a-0c66d8a97d4d"
      },
      "source": [
        "df.isnull().sum()"
      ],
      "execution_count": null,
      "outputs": [
        {
          "output_type": "execute_result",
          "data": {
            "text/plain": [
              "MINERAL                  0\n",
              "ECOS_POTENC_AFECTADOS    0\n",
              "IMPACTOS                 0\n",
              "METODO_EXTRACCION        0\n",
              "dtype: int64"
            ]
          },
          "metadata": {
            "tags": []
          },
          "execution_count": 61
        }
      ]
    },
    {
      "cell_type": "markdown",
      "metadata": {
        "id": "e8J3QaNYsYCL"
      },
      "source": [
        "El valor más alto de cada una de las columnas"
      ]
    },
    {
      "cell_type": "code",
      "metadata": {
        "colab": {
          "base_uri": "https://localhost:8080/"
        },
        "id": "E_iPmRavqYSM",
        "outputId": "e8948947-01fa-46d7-d516-1330bc37eed7"
      },
      "source": [
        "df.max()"
      ],
      "execution_count": null,
      "outputs": [
        {
          "output_type": "execute_result",
          "data": {
            "text/plain": [
              "MINERAL                                                              yeso\n",
              "ECOS_POTENC_AFECTADOS    selvas húmedas y sabanas y afloramientos rocosos\n",
              "IMPACTOS                                                    sedimentación\n",
              "METODO_EXTRACCION                             subterránea y cielo abierto\n",
              "dtype: object"
            ]
          },
          "metadata": {
            "tags": []
          },
          "execution_count": 62
        }
      ]
    },
    {
      "cell_type": "markdown",
      "metadata": {
        "id": "SgSFeL6gsbjS"
      },
      "source": [
        "El menor valor de cada una de las columnas"
      ]
    },
    {
      "cell_type": "code",
      "metadata": {
        "colab": {
          "base_uri": "https://localhost:8080/"
        },
        "id": "053HHDNMsjgx",
        "outputId": "77cf5a06-6b64-4fe5-db90-20b50725d478"
      },
      "source": [
        "df.min()"
      ],
      "execution_count": null,
      "outputs": [
        {
          "output_type": "execute_result",
          "data": {
            "text/plain": [
              "MINERAL                             arcilla\n",
              "ECOS_POTENC_AFECTADOS             No aplica\n",
              "IMPACTOS                 Movimiento en masa\n",
              "METODO_EXTRACCION                 No aplica\n",
              "dtype: object"
            ]
          },
          "metadata": {
            "tags": []
          },
          "execution_count": 63
        }
      ]
    },
    {
      "cell_type": "markdown",
      "metadata": {
        "id": "Qz1-vtDKtPJa"
      },
      "source": [
        "Imprimir filas y columnas específicas"
      ]
    },
    {
      "cell_type": "code",
      "metadata": {
        "colab": {
          "base_uri": "https://localhost:8080/",
          "height": 347
        },
        "id": "CSj5CzI6tRSy",
        "outputId": "189e8a9e-2807-4051-b3ac-241f3cdb95ca"
      },
      "source": [
        "df.iloc[0:10, 1:3]"
      ],
      "execution_count": null,
      "outputs": [
        {
          "output_type": "execute_result",
          "data": {
            "text/html": [
              "<div>\n",
              "<style scoped>\n",
              "    .dataframe tbody tr th:only-of-type {\n",
              "        vertical-align: middle;\n",
              "    }\n",
              "\n",
              "    .dataframe tbody tr th {\n",
              "        vertical-align: top;\n",
              "    }\n",
              "\n",
              "    .dataframe thead th {\n",
              "        text-align: right;\n",
              "    }\n",
              "</style>\n",
              "<table border=\"1\" class=\"dataframe\">\n",
              "  <thead>\n",
              "    <tr style=\"text-align: right;\">\n",
              "      <th></th>\n",
              "      <th>ECOS_POTENC_AFECTADOS</th>\n",
              "      <th>IMPACTOS</th>\n",
              "    </tr>\n",
              "  </thead>\n",
              "  <tbody>\n",
              "    <tr>\n",
              "      <th>0</th>\n",
              "      <td>páramo</td>\n",
              "      <td>Movimiento en masa</td>\n",
              "    </tr>\n",
              "    <tr>\n",
              "      <th>1</th>\n",
              "      <td>páramo</td>\n",
              "      <td>Movimiento en masa</td>\n",
              "    </tr>\n",
              "    <tr>\n",
              "      <th>2</th>\n",
              "      <td>páramo</td>\n",
              "      <td>Movimiento en masa</td>\n",
              "    </tr>\n",
              "    <tr>\n",
              "      <th>3</th>\n",
              "      <td>bosques andinos</td>\n",
              "      <td>Movimiento en masa</td>\n",
              "    </tr>\n",
              "    <tr>\n",
              "      <th>4</th>\n",
              "      <td>bosques andinos</td>\n",
              "      <td>Movimiento en masa</td>\n",
              "    </tr>\n",
              "    <tr>\n",
              "      <th>5</th>\n",
              "      <td>bosques andinos</td>\n",
              "      <td>Movimiento en masa</td>\n",
              "    </tr>\n",
              "    <tr>\n",
              "      <th>6</th>\n",
              "      <td>bosques andinos</td>\n",
              "      <td>Sedimentacion</td>\n",
              "    </tr>\n",
              "    <tr>\n",
              "      <th>7</th>\n",
              "      <td>bosques andinos</td>\n",
              "      <td>Movimiento en masa y Sedimentación</td>\n",
              "    </tr>\n",
              "    <tr>\n",
              "      <th>8</th>\n",
              "      <td>bosques andinos</td>\n",
              "      <td>Movimiento en masa y Sedimentación</td>\n",
              "    </tr>\n",
              "    <tr>\n",
              "      <th>9</th>\n",
              "      <td>No aplica</td>\n",
              "      <td>Sedimentación</td>\n",
              "    </tr>\n",
              "  </tbody>\n",
              "</table>\n",
              "</div>"
            ],
            "text/plain": [
              "  ECOS_POTENC_AFECTADOS                            IMPACTOS\n",
              "0                páramo                  Movimiento en masa\n",
              "1                páramo                  Movimiento en masa\n",
              "2                páramo                  Movimiento en masa\n",
              "3       bosques andinos                  Movimiento en masa\n",
              "4       bosques andinos                  Movimiento en masa\n",
              "5       bosques andinos                  Movimiento en masa\n",
              "6       bosques andinos                       Sedimentacion\n",
              "7       bosques andinos  Movimiento en masa y Sedimentación\n",
              "8       bosques andinos  Movimiento en masa y Sedimentación\n",
              "9             No aplica                       Sedimentación"
            ]
          },
          "metadata": {
            "tags": []
          },
          "execution_count": 64
        }
      ]
    },
    {
      "cell_type": "markdown",
      "metadata": {
        "id": "DkYSnrw7tfQE"
      },
      "source": [
        "**Transformar**"
      ]
    },
    {
      "cell_type": "markdown",
      "metadata": {
        "id": "7rUt50NQti4_"
      },
      "source": [
        "Transformar la variable categórica METODO_EXTRACCION"
      ]
    },
    {
      "cell_type": "markdown",
      "metadata": {
        "id": "l0CsZ75F1Yt4"
      },
      "source": [
        "Mapear los datos que se van a codificar"
      ]
    },
    {
      "cell_type": "code",
      "metadata": {
        "colab": {
          "base_uri": "https://localhost:8080/",
          "height": 947
        },
        "id": "aiV13ZCRydBU",
        "outputId": "0d06bcdb-098f-47f6-af24-853f69abdcd0"
      },
      "source": [
        "from sklearn import preprocessing\n",
        "from sklearn.preprocessing import LabelEncoder\n",
        "METODO_EXTRACCION_COD = encoder.fit_transform(df.METODO_EXTRACCION)\n",
        "encoder.classes_\n",
        "pd.DataFrame({\n",
        "    \"original\": df.METODO_EXTRACCION[:30],\n",
        "    \"codificada\": METODO_EXTRACCION_COD[:30]\n",
        "})"
      ],
      "execution_count": null,
      "outputs": [
        {
          "output_type": "execute_result",
          "data": {
            "text/html": [
              "<div>\n",
              "<style scoped>\n",
              "    .dataframe tbody tr th:only-of-type {\n",
              "        vertical-align: middle;\n",
              "    }\n",
              "\n",
              "    .dataframe tbody tr th {\n",
              "        vertical-align: top;\n",
              "    }\n",
              "\n",
              "    .dataframe thead th {\n",
              "        text-align: right;\n",
              "    }\n",
              "</style>\n",
              "<table border=\"1\" class=\"dataframe\">\n",
              "  <thead>\n",
              "    <tr style=\"text-align: right;\">\n",
              "      <th></th>\n",
              "      <th>original</th>\n",
              "      <th>codificada</th>\n",
              "    </tr>\n",
              "  </thead>\n",
              "  <tbody>\n",
              "    <tr>\n",
              "      <th>0</th>\n",
              "      <td>subterránea y cielo abierto</td>\n",
              "      <td>7</td>\n",
              "    </tr>\n",
              "    <tr>\n",
              "      <th>1</th>\n",
              "      <td>subterránea y cielo abierto</td>\n",
              "      <td>7</td>\n",
              "    </tr>\n",
              "    <tr>\n",
              "      <th>2</th>\n",
              "      <td>subterránea y cielo abierto</td>\n",
              "      <td>7</td>\n",
              "    </tr>\n",
              "    <tr>\n",
              "      <th>3</th>\n",
              "      <td>subterránea y cielo abierto</td>\n",
              "      <td>7</td>\n",
              "    </tr>\n",
              "    <tr>\n",
              "      <th>4</th>\n",
              "      <td>subterránea y cielo abierto</td>\n",
              "      <td>7</td>\n",
              "    </tr>\n",
              "    <tr>\n",
              "      <th>5</th>\n",
              "      <td>subterránea y cielo abierto</td>\n",
              "      <td>7</td>\n",
              "    </tr>\n",
              "    <tr>\n",
              "      <th>6</th>\n",
              "      <td>aluvión y subterránea</td>\n",
              "      <td>4</td>\n",
              "    </tr>\n",
              "    <tr>\n",
              "      <th>7</th>\n",
              "      <td>subterránea</td>\n",
              "      <td>6</td>\n",
              "    </tr>\n",
              "    <tr>\n",
              "      <th>8</th>\n",
              "      <td>subterránea</td>\n",
              "      <td>6</td>\n",
              "    </tr>\n",
              "    <tr>\n",
              "      <th>9</th>\n",
              "      <td>subterránea</td>\n",
              "      <td>6</td>\n",
              "    </tr>\n",
              "    <tr>\n",
              "      <th>10</th>\n",
              "      <td>subterránea y cielo abierto</td>\n",
              "      <td>7</td>\n",
              "    </tr>\n",
              "    <tr>\n",
              "      <th>11</th>\n",
              "      <td>subterránea y cielo abierto</td>\n",
              "      <td>7</td>\n",
              "    </tr>\n",
              "    <tr>\n",
              "      <th>12</th>\n",
              "      <td>subterránea</td>\n",
              "      <td>6</td>\n",
              "    </tr>\n",
              "    <tr>\n",
              "      <th>13</th>\n",
              "      <td>subterránea</td>\n",
              "      <td>6</td>\n",
              "    </tr>\n",
              "    <tr>\n",
              "      <th>14</th>\n",
              "      <td>subterránea</td>\n",
              "      <td>6</td>\n",
              "    </tr>\n",
              "    <tr>\n",
              "      <th>15</th>\n",
              "      <td>aluvión y subterránea</td>\n",
              "      <td>4</td>\n",
              "    </tr>\n",
              "    <tr>\n",
              "      <th>16</th>\n",
              "      <td>aluvión y subterránea</td>\n",
              "      <td>4</td>\n",
              "    </tr>\n",
              "    <tr>\n",
              "      <th>17</th>\n",
              "      <td>aluvión y subterránea</td>\n",
              "      <td>4</td>\n",
              "    </tr>\n",
              "    <tr>\n",
              "      <th>18</th>\n",
              "      <td>aluvión y subterránea</td>\n",
              "      <td>4</td>\n",
              "    </tr>\n",
              "    <tr>\n",
              "      <th>19</th>\n",
              "      <td>subterránea y cielo abierto</td>\n",
              "      <td>7</td>\n",
              "    </tr>\n",
              "    <tr>\n",
              "      <th>20</th>\n",
              "      <td>aluvión y subterránea</td>\n",
              "      <td>4</td>\n",
              "    </tr>\n",
              "    <tr>\n",
              "      <th>21</th>\n",
              "      <td>aluvión y subterránea</td>\n",
              "      <td>4</td>\n",
              "    </tr>\n",
              "    <tr>\n",
              "      <th>22</th>\n",
              "      <td>aluvión y subterránea</td>\n",
              "      <td>4</td>\n",
              "    </tr>\n",
              "    <tr>\n",
              "      <th>23</th>\n",
              "      <td>aluvión y subterránea</td>\n",
              "      <td>4</td>\n",
              "    </tr>\n",
              "    <tr>\n",
              "      <th>24</th>\n",
              "      <td>aluvión y subterránea</td>\n",
              "      <td>4</td>\n",
              "    </tr>\n",
              "    <tr>\n",
              "      <th>25</th>\n",
              "      <td>aluvión y subterránea</td>\n",
              "      <td>4</td>\n",
              "    </tr>\n",
              "    <tr>\n",
              "      <th>26</th>\n",
              "      <td>aluvión y cielo abierto</td>\n",
              "      <td>3</td>\n",
              "    </tr>\n",
              "    <tr>\n",
              "      <th>27</th>\n",
              "      <td>aluvión y cielo abierto</td>\n",
              "      <td>3</td>\n",
              "    </tr>\n",
              "    <tr>\n",
              "      <th>28</th>\n",
              "      <td>aluvión y cielo abierto</td>\n",
              "      <td>3</td>\n",
              "    </tr>\n",
              "    <tr>\n",
              "      <th>29</th>\n",
              "      <td>aluvión y cielo abierto</td>\n",
              "      <td>3</td>\n",
              "    </tr>\n",
              "  </tbody>\n",
              "</table>\n",
              "</div>"
            ],
            "text/plain": [
              "                       original  codificada\n",
              "0   subterránea y cielo abierto           7\n",
              "1   subterránea y cielo abierto           7\n",
              "2   subterránea y cielo abierto           7\n",
              "3   subterránea y cielo abierto           7\n",
              "4   subterránea y cielo abierto           7\n",
              "5   subterránea y cielo abierto           7\n",
              "6         aluvión y subterránea           4\n",
              "7                   subterránea           6\n",
              "8                   subterránea           6\n",
              "9                   subterránea           6\n",
              "10  subterránea y cielo abierto           7\n",
              "11  subterránea y cielo abierto           7\n",
              "12                  subterránea           6\n",
              "13                  subterránea           6\n",
              "14                  subterránea           6\n",
              "15        aluvión y subterránea           4\n",
              "16        aluvión y subterránea           4\n",
              "17        aluvión y subterránea           4\n",
              "18        aluvión y subterránea           4\n",
              "19  subterránea y cielo abierto           7\n",
              "20        aluvión y subterránea           4\n",
              "21        aluvión y subterránea           4\n",
              "22        aluvión y subterránea           4\n",
              "23        aluvión y subterránea           4\n",
              "24        aluvión y subterránea           4\n",
              "25        aluvión y subterránea           4\n",
              "26      aluvión y cielo abierto           3\n",
              "27      aluvión y cielo abierto           3\n",
              "28      aluvión y cielo abierto           3\n",
              "29      aluvión y cielo abierto           3"
            ]
          },
          "metadata": {
            "tags": []
          },
          "execution_count": 65
        }
      ]
    },
    {
      "cell_type": "markdown",
      "metadata": {
        "id": "VXDIsWlc1fvQ"
      },
      "source": [
        "Codificar los datos originales mapeados"
      ]
    },
    {
      "cell_type": "code",
      "metadata": {
        "colab": {
          "base_uri": "https://localhost:8080/"
        },
        "id": "SEQBrq3nt2Q8",
        "outputId": "e3a513d3-e46d-4424-8417-a7548ff7ef63"
      },
      "source": [
        "from sklearn import preprocessing\n",
        "from sklearn.preprocessing import LabelEncoder\n",
        "encoder=LabelEncoder()\n",
        "df['METODO_EXTRACCION']= encoder.fit_transform(df.METODO_EXTRACCION.values)\n",
        "print(df)"
      ],
      "execution_count": null,
      "outputs": [
        {
          "output_type": "stream",
          "text": [
            "                  MINERAL  ... METODO_EXTRACCION\n",
            "0         arenas y gravas  ...                 7\n",
            "1                 arcilla  ...                 7\n",
            "2         arenas y gravas  ...                 7\n",
            "3         arenas y gravas  ...                 7\n",
            "4         arenas y gravas  ...                 7\n",
            "..                    ...  ...               ...\n",
            "171  materiales preciosos  ...                 4\n",
            "172  materiales preciosos  ...                 4\n",
            "173  materiales preciosos  ...                 4\n",
            "174       arenas y gravas  ...                 2\n",
            "175  materiales preciosos  ...                 4\n",
            "\n",
            "[176 rows x 4 columns]\n"
          ],
          "name": "stdout"
        }
      ]
    },
    {
      "cell_type": "markdown",
      "metadata": {
        "id": "QQ5mxGXy0_bm"
      },
      "source": [
        "Transformar la variable categórica IMPACTOS"
      ]
    },
    {
      "cell_type": "markdown",
      "metadata": {
        "id": "dKi_skwt1qFQ"
      },
      "source": [
        "Mapear los datos que se van a codificar"
      ]
    },
    {
      "cell_type": "code",
      "metadata": {
        "colab": {
          "base_uri": "https://localhost:8080/",
          "height": 947
        },
        "id": "wbWjwMpF1o3r",
        "outputId": "41602f31-b9a7-4a3e-ae35-789f6f556d43"
      },
      "source": [
        "IMPACTOS_COD = encoder.fit_transform(df.IMPACTOS)\n",
        "encoder.classes_\n",
        "pd.DataFrame({\n",
        "    \"original\": df.IMPACTOS[:30],\n",
        "    \"codificada\": IMPACTOS_COD[:30]\n",
        "})"
      ],
      "execution_count": null,
      "outputs": [
        {
          "output_type": "execute_result",
          "data": {
            "text/html": [
              "<div>\n",
              "<style scoped>\n",
              "    .dataframe tbody tr th:only-of-type {\n",
              "        vertical-align: middle;\n",
              "    }\n",
              "\n",
              "    .dataframe tbody tr th {\n",
              "        vertical-align: top;\n",
              "    }\n",
              "\n",
              "    .dataframe thead th {\n",
              "        text-align: right;\n",
              "    }\n",
              "</style>\n",
              "<table border=\"1\" class=\"dataframe\">\n",
              "  <thead>\n",
              "    <tr style=\"text-align: right;\">\n",
              "      <th></th>\n",
              "      <th>original</th>\n",
              "      <th>codificada</th>\n",
              "    </tr>\n",
              "  </thead>\n",
              "  <tbody>\n",
              "    <tr>\n",
              "      <th>0</th>\n",
              "      <td>Movimiento en masa</td>\n",
              "      <td>0</td>\n",
              "    </tr>\n",
              "    <tr>\n",
              "      <th>1</th>\n",
              "      <td>Movimiento en masa</td>\n",
              "      <td>0</td>\n",
              "    </tr>\n",
              "    <tr>\n",
              "      <th>2</th>\n",
              "      <td>Movimiento en masa</td>\n",
              "      <td>0</td>\n",
              "    </tr>\n",
              "    <tr>\n",
              "      <th>3</th>\n",
              "      <td>Movimiento en masa</td>\n",
              "      <td>0</td>\n",
              "    </tr>\n",
              "    <tr>\n",
              "      <th>4</th>\n",
              "      <td>Movimiento en masa</td>\n",
              "      <td>0</td>\n",
              "    </tr>\n",
              "    <tr>\n",
              "      <th>5</th>\n",
              "      <td>Movimiento en masa</td>\n",
              "      <td>0</td>\n",
              "    </tr>\n",
              "    <tr>\n",
              "      <th>6</th>\n",
              "      <td>Sedimentacion</td>\n",
              "      <td>3</td>\n",
              "    </tr>\n",
              "    <tr>\n",
              "      <th>7</th>\n",
              "      <td>Movimiento en masa y Sedimentación</td>\n",
              "      <td>2</td>\n",
              "    </tr>\n",
              "    <tr>\n",
              "      <th>8</th>\n",
              "      <td>Movimiento en masa y Sedimentación</td>\n",
              "      <td>2</td>\n",
              "    </tr>\n",
              "    <tr>\n",
              "      <th>9</th>\n",
              "      <td>Sedimentación</td>\n",
              "      <td>4</td>\n",
              "    </tr>\n",
              "    <tr>\n",
              "      <th>10</th>\n",
              "      <td>Sedimentación</td>\n",
              "      <td>4</td>\n",
              "    </tr>\n",
              "    <tr>\n",
              "      <th>11</th>\n",
              "      <td>Sedimentación</td>\n",
              "      <td>4</td>\n",
              "    </tr>\n",
              "    <tr>\n",
              "      <th>12</th>\n",
              "      <td>Sedimentación</td>\n",
              "      <td>4</td>\n",
              "    </tr>\n",
              "    <tr>\n",
              "      <th>13</th>\n",
              "      <td>Sedimentación</td>\n",
              "      <td>4</td>\n",
              "    </tr>\n",
              "    <tr>\n",
              "      <th>14</th>\n",
              "      <td>Movimiento en masa</td>\n",
              "      <td>0</td>\n",
              "    </tr>\n",
              "    <tr>\n",
              "      <th>15</th>\n",
              "      <td>Movimiento en masa</td>\n",
              "      <td>0</td>\n",
              "    </tr>\n",
              "    <tr>\n",
              "      <th>16</th>\n",
              "      <td>Movimiento en masa</td>\n",
              "      <td>0</td>\n",
              "    </tr>\n",
              "    <tr>\n",
              "      <th>17</th>\n",
              "      <td>Movimiento en masa</td>\n",
              "      <td>0</td>\n",
              "    </tr>\n",
              "    <tr>\n",
              "      <th>18</th>\n",
              "      <td>Sedimentación</td>\n",
              "      <td>4</td>\n",
              "    </tr>\n",
              "    <tr>\n",
              "      <th>19</th>\n",
              "      <td>Sedimentación</td>\n",
              "      <td>4</td>\n",
              "    </tr>\n",
              "    <tr>\n",
              "      <th>20</th>\n",
              "      <td>Sedimentación</td>\n",
              "      <td>4</td>\n",
              "    </tr>\n",
              "    <tr>\n",
              "      <th>21</th>\n",
              "      <td>Sedimentación</td>\n",
              "      <td>4</td>\n",
              "    </tr>\n",
              "    <tr>\n",
              "      <th>22</th>\n",
              "      <td>Sedimentación</td>\n",
              "      <td>4</td>\n",
              "    </tr>\n",
              "    <tr>\n",
              "      <th>23</th>\n",
              "      <td>Sedimentación</td>\n",
              "      <td>4</td>\n",
              "    </tr>\n",
              "    <tr>\n",
              "      <th>24</th>\n",
              "      <td>Sedimentación</td>\n",
              "      <td>4</td>\n",
              "    </tr>\n",
              "    <tr>\n",
              "      <th>25</th>\n",
              "      <td>Sedimentación</td>\n",
              "      <td>4</td>\n",
              "    </tr>\n",
              "    <tr>\n",
              "      <th>26</th>\n",
              "      <td>Movimiento en masa y Sedimentación</td>\n",
              "      <td>2</td>\n",
              "    </tr>\n",
              "    <tr>\n",
              "      <th>27</th>\n",
              "      <td>Movimiento en masa y Sedimentación</td>\n",
              "      <td>2</td>\n",
              "    </tr>\n",
              "    <tr>\n",
              "      <th>28</th>\n",
              "      <td>Movimiento en masa y Sedimentación</td>\n",
              "      <td>2</td>\n",
              "    </tr>\n",
              "    <tr>\n",
              "      <th>29</th>\n",
              "      <td>Movimiento en masa y Sedimentación</td>\n",
              "      <td>2</td>\n",
              "    </tr>\n",
              "  </tbody>\n",
              "</table>\n",
              "</div>"
            ],
            "text/plain": [
              "                              original  codificada\n",
              "0                   Movimiento en masa           0\n",
              "1                   Movimiento en masa           0\n",
              "2                   Movimiento en masa           0\n",
              "3                   Movimiento en masa           0\n",
              "4                   Movimiento en masa           0\n",
              "5                   Movimiento en masa           0\n",
              "6                        Sedimentacion           3\n",
              "7   Movimiento en masa y Sedimentación           2\n",
              "8   Movimiento en masa y Sedimentación           2\n",
              "9                        Sedimentación           4\n",
              "10                       Sedimentación           4\n",
              "11                       Sedimentación           4\n",
              "12                       Sedimentación           4\n",
              "13                       Sedimentación           4\n",
              "14                  Movimiento en masa           0\n",
              "15                  Movimiento en masa           0\n",
              "16                  Movimiento en masa           0\n",
              "17                  Movimiento en masa           0\n",
              "18                       Sedimentación           4\n",
              "19                       Sedimentación           4\n",
              "20                       Sedimentación           4\n",
              "21                       Sedimentación           4\n",
              "22                       Sedimentación           4\n",
              "23                       Sedimentación           4\n",
              "24                       Sedimentación           4\n",
              "25                       Sedimentación           4\n",
              "26  Movimiento en masa y Sedimentación           2\n",
              "27  Movimiento en masa y Sedimentación           2\n",
              "28  Movimiento en masa y Sedimentación           2\n",
              "29  Movimiento en masa y Sedimentación           2"
            ]
          },
          "metadata": {
            "tags": []
          },
          "execution_count": 67
        }
      ]
    },
    {
      "cell_type": "markdown",
      "metadata": {
        "id": "MlNYApvu2G48"
      },
      "source": [
        "Codificar los datos originales mapeados"
      ]
    },
    {
      "cell_type": "code",
      "metadata": {
        "colab": {
          "base_uri": "https://localhost:8080/"
        },
        "id": "BPqe90sb2H72",
        "outputId": "538ed5e8-003d-4255-ac2e-e37cd1e02e60"
      },
      "source": [
        "encoder=LabelEncoder()\n",
        "df['IMPACTOS']= encoder.fit_transform(df.IMPACTOS.values)\n",
        "print(df)"
      ],
      "execution_count": null,
      "outputs": [
        {
          "output_type": "stream",
          "text": [
            "                  MINERAL ECOS_POTENC_AFECTADOS  IMPACTOS  METODO_EXTRACCION\n",
            "0         arenas y gravas                páramo         0                  7\n",
            "1                 arcilla                páramo         0                  7\n",
            "2         arenas y gravas                páramo         0                  7\n",
            "3         arenas y gravas       bosques andinos         0                  7\n",
            "4         arenas y gravas       bosques andinos         0                  7\n",
            "..                    ...                   ...       ...                ...\n",
            "171  materiales preciosos             No aplica         5                  4\n",
            "172  materiales preciosos             No aplica         5                  4\n",
            "173  materiales preciosos             No aplica         5                  4\n",
            "174       arenas y gravas             No aplica         2                  2\n",
            "175  materiales preciosos             No aplica         2                  4\n",
            "\n",
            "[176 rows x 4 columns]\n"
          ],
          "name": "stdout"
        }
      ]
    },
    {
      "cell_type": "markdown",
      "metadata": {
        "id": "UUCu2RSk3hYW"
      },
      "source": [
        "Transformar la variable categórica ECOS_POTENC_AFECTADOS"
      ]
    },
    {
      "cell_type": "markdown",
      "metadata": {
        "id": "38pQ1UAr3qVy"
      },
      "source": [
        "Mapear los datos que se van a codificar"
      ]
    },
    {
      "cell_type": "code",
      "metadata": {
        "colab": {
          "base_uri": "https://localhost:8080/",
          "height": 947
        },
        "id": "AMM-3ZqH3u8S",
        "outputId": "5b58177e-150e-4143-ff71-2fa2559776db"
      },
      "source": [
        "ECOS_POTENC_AFECTADOS_COD = encoder.fit_transform(df.ECOS_POTENC_AFECTADOS)\n",
        "encoder.classes_\n",
        "pd.DataFrame({\n",
        "    \"original\": df.ECOS_POTENC_AFECTADOS[:30],\n",
        "    \"codificada\": ECOS_POTENC_AFECTADOS_COD[:30]\n",
        "})"
      ],
      "execution_count": null,
      "outputs": [
        {
          "output_type": "execute_result",
          "data": {
            "text/html": [
              "<div>\n",
              "<style scoped>\n",
              "    .dataframe tbody tr th:only-of-type {\n",
              "        vertical-align: middle;\n",
              "    }\n",
              "\n",
              "    .dataframe tbody tr th {\n",
              "        vertical-align: top;\n",
              "    }\n",
              "\n",
              "    .dataframe thead th {\n",
              "        text-align: right;\n",
              "    }\n",
              "</style>\n",
              "<table border=\"1\" class=\"dataframe\">\n",
              "  <thead>\n",
              "    <tr style=\"text-align: right;\">\n",
              "      <th></th>\n",
              "      <th>original</th>\n",
              "      <th>codificada</th>\n",
              "    </tr>\n",
              "  </thead>\n",
              "  <tbody>\n",
              "    <tr>\n",
              "      <th>0</th>\n",
              "      <td>páramo</td>\n",
              "      <td>8</td>\n",
              "    </tr>\n",
              "    <tr>\n",
              "      <th>1</th>\n",
              "      <td>páramo</td>\n",
              "      <td>8</td>\n",
              "    </tr>\n",
              "    <tr>\n",
              "      <th>2</th>\n",
              "      <td>páramo</td>\n",
              "      <td>8</td>\n",
              "    </tr>\n",
              "    <tr>\n",
              "      <th>3</th>\n",
              "      <td>bosques andinos</td>\n",
              "      <td>1</td>\n",
              "    </tr>\n",
              "    <tr>\n",
              "      <th>4</th>\n",
              "      <td>bosques andinos</td>\n",
              "      <td>1</td>\n",
              "    </tr>\n",
              "    <tr>\n",
              "      <th>5</th>\n",
              "      <td>bosques andinos</td>\n",
              "      <td>1</td>\n",
              "    </tr>\n",
              "    <tr>\n",
              "      <th>6</th>\n",
              "      <td>bosques andinos</td>\n",
              "      <td>1</td>\n",
              "    </tr>\n",
              "    <tr>\n",
              "      <th>7</th>\n",
              "      <td>bosques andinos</td>\n",
              "      <td>1</td>\n",
              "    </tr>\n",
              "    <tr>\n",
              "      <th>8</th>\n",
              "      <td>bosques andinos</td>\n",
              "      <td>1</td>\n",
              "    </tr>\n",
              "    <tr>\n",
              "      <th>9</th>\n",
              "      <td>No aplica</td>\n",
              "      <td>0</td>\n",
              "    </tr>\n",
              "    <tr>\n",
              "      <th>10</th>\n",
              "      <td>No aplica</td>\n",
              "      <td>0</td>\n",
              "    </tr>\n",
              "    <tr>\n",
              "      <th>11</th>\n",
              "      <td>No aplica</td>\n",
              "      <td>0</td>\n",
              "    </tr>\n",
              "    <tr>\n",
              "      <th>12</th>\n",
              "      <td>No aplica</td>\n",
              "      <td>0</td>\n",
              "    </tr>\n",
              "    <tr>\n",
              "      <th>13</th>\n",
              "      <td>No aplica</td>\n",
              "      <td>0</td>\n",
              "    </tr>\n",
              "    <tr>\n",
              "      <th>14</th>\n",
              "      <td>bosques andinos</td>\n",
              "      <td>1</td>\n",
              "    </tr>\n",
              "    <tr>\n",
              "      <th>15</th>\n",
              "      <td>páramo</td>\n",
              "      <td>8</td>\n",
              "    </tr>\n",
              "    <tr>\n",
              "      <th>16</th>\n",
              "      <td>No aplica</td>\n",
              "      <td>0</td>\n",
              "    </tr>\n",
              "    <tr>\n",
              "      <th>17</th>\n",
              "      <td>bosques andinos y páramo</td>\n",
              "      <td>2</td>\n",
              "    </tr>\n",
              "    <tr>\n",
              "      <th>18</th>\n",
              "      <td>No aplica</td>\n",
              "      <td>0</td>\n",
              "    </tr>\n",
              "    <tr>\n",
              "      <th>19</th>\n",
              "      <td>No aplica</td>\n",
              "      <td>0</td>\n",
              "    </tr>\n",
              "    <tr>\n",
              "      <th>20</th>\n",
              "      <td>No aplica</td>\n",
              "      <td>0</td>\n",
              "    </tr>\n",
              "    <tr>\n",
              "      <th>21</th>\n",
              "      <td>No aplica</td>\n",
              "      <td>0</td>\n",
              "    </tr>\n",
              "    <tr>\n",
              "      <th>22</th>\n",
              "      <td>No aplica</td>\n",
              "      <td>0</td>\n",
              "    </tr>\n",
              "    <tr>\n",
              "      <th>23</th>\n",
              "      <td>No aplica</td>\n",
              "      <td>0</td>\n",
              "    </tr>\n",
              "    <tr>\n",
              "      <th>24</th>\n",
              "      <td>No aplica</td>\n",
              "      <td>0</td>\n",
              "    </tr>\n",
              "    <tr>\n",
              "      <th>25</th>\n",
              "      <td>No aplica</td>\n",
              "      <td>0</td>\n",
              "    </tr>\n",
              "    <tr>\n",
              "      <th>26</th>\n",
              "      <td>bosques de galería y riparios</td>\n",
              "      <td>4</td>\n",
              "    </tr>\n",
              "    <tr>\n",
              "      <th>27</th>\n",
              "      <td>ecosistemas secos</td>\n",
              "      <td>5</td>\n",
              "    </tr>\n",
              "    <tr>\n",
              "      <th>28</th>\n",
              "      <td>ecosistemas secos</td>\n",
              "      <td>5</td>\n",
              "    </tr>\n",
              "    <tr>\n",
              "      <th>29</th>\n",
              "      <td>ecosistemas secos</td>\n",
              "      <td>5</td>\n",
              "    </tr>\n",
              "  </tbody>\n",
              "</table>\n",
              "</div>"
            ],
            "text/plain": [
              "                         original  codificada\n",
              "0                          páramo           8\n",
              "1                          páramo           8\n",
              "2                          páramo           8\n",
              "3                 bosques andinos           1\n",
              "4                 bosques andinos           1\n",
              "5                 bosques andinos           1\n",
              "6                 bosques andinos           1\n",
              "7                 bosques andinos           1\n",
              "8                 bosques andinos           1\n",
              "9                       No aplica           0\n",
              "10                      No aplica           0\n",
              "11                      No aplica           0\n",
              "12                      No aplica           0\n",
              "13                      No aplica           0\n",
              "14                bosques andinos           1\n",
              "15                         páramo           8\n",
              "16                      No aplica           0\n",
              "17       bosques andinos y páramo           2\n",
              "18                      No aplica           0\n",
              "19                      No aplica           0\n",
              "20                      No aplica           0\n",
              "21                      No aplica           0\n",
              "22                      No aplica           0\n",
              "23                      No aplica           0\n",
              "24                      No aplica           0\n",
              "25                      No aplica           0\n",
              "26  bosques de galería y riparios           4\n",
              "27              ecosistemas secos           5\n",
              "28              ecosistemas secos           5\n",
              "29              ecosistemas secos           5"
            ]
          },
          "metadata": {
            "tags": []
          },
          "execution_count": 69
        }
      ]
    },
    {
      "cell_type": "markdown",
      "metadata": {
        "id": "T-SqFDn64FYL"
      },
      "source": [
        "Codificar los datos originales mapeados"
      ]
    },
    {
      "cell_type": "code",
      "metadata": {
        "colab": {
          "base_uri": "https://localhost:8080/"
        },
        "id": "EiIXst0T4Gk8",
        "outputId": "fe59fa70-6a8b-4696-8889-11ccf8ea9f53"
      },
      "source": [
        "encoder=LabelEncoder()\n",
        "df['ECOS_POTENC_AFECTADOS']= encoder.fit_transform(df.ECOS_POTENC_AFECTADOS.values)\n",
        "print(df)"
      ],
      "execution_count": null,
      "outputs": [
        {
          "output_type": "stream",
          "text": [
            "                  MINERAL  ECOS_POTENC_AFECTADOS  IMPACTOS  METODO_EXTRACCION\n",
            "0         arenas y gravas                      8         0                  7\n",
            "1                 arcilla                      8         0                  7\n",
            "2         arenas y gravas                      8         0                  7\n",
            "3         arenas y gravas                      1         0                  7\n",
            "4         arenas y gravas                      1         0                  7\n",
            "..                    ...                    ...       ...                ...\n",
            "171  materiales preciosos                      0         5                  4\n",
            "172  materiales preciosos                      0         5                  4\n",
            "173  materiales preciosos                      0         5                  4\n",
            "174       arenas y gravas                      0         2                  2\n",
            "175  materiales preciosos                      0         2                  4\n",
            "\n",
            "[176 rows x 4 columns]\n"
          ],
          "name": "stdout"
        }
      ]
    },
    {
      "cell_type": "markdown",
      "metadata": {
        "id": "zGGOvdvK4wbF"
      },
      "source": [
        "Transformar la variable categórica MINERAL"
      ]
    },
    {
      "cell_type": "markdown",
      "metadata": {
        "id": "Nk9jdCCb4zo-"
      },
      "source": [
        "Mapear los datos que se van a codificar"
      ]
    },
    {
      "cell_type": "code",
      "metadata": {
        "colab": {
          "base_uri": "https://localhost:8080/",
          "height": 947
        },
        "id": "RAAzbayV43J0",
        "outputId": "5c8391e9-74a3-4f17-92cf-d1304e44df46"
      },
      "source": [
        "MINERAL_COD = encoder.fit_transform(df.MINERAL)\n",
        "encoder.classes_\n",
        "pd.DataFrame({\n",
        "    \"original\": df.MINERAL[:30],\n",
        "    \"codificada\": MINERAL_COD[:30]\n",
        "})"
      ],
      "execution_count": null,
      "outputs": [
        {
          "output_type": "execute_result",
          "data": {
            "text/html": [
              "<div>\n",
              "<style scoped>\n",
              "    .dataframe tbody tr th:only-of-type {\n",
              "        vertical-align: middle;\n",
              "    }\n",
              "\n",
              "    .dataframe tbody tr th {\n",
              "        vertical-align: top;\n",
              "    }\n",
              "\n",
              "    .dataframe thead th {\n",
              "        text-align: right;\n",
              "    }\n",
              "</style>\n",
              "<table border=\"1\" class=\"dataframe\">\n",
              "  <thead>\n",
              "    <tr style=\"text-align: right;\">\n",
              "      <th></th>\n",
              "      <th>original</th>\n",
              "      <th>codificada</th>\n",
              "    </tr>\n",
              "  </thead>\n",
              "  <tbody>\n",
              "    <tr>\n",
              "      <th>0</th>\n",
              "      <td>arenas y gravas</td>\n",
              "      <td>2</td>\n",
              "    </tr>\n",
              "    <tr>\n",
              "      <th>1</th>\n",
              "      <td>arcilla</td>\n",
              "      <td>0</td>\n",
              "    </tr>\n",
              "    <tr>\n",
              "      <th>2</th>\n",
              "      <td>arenas y gravas</td>\n",
              "      <td>2</td>\n",
              "    </tr>\n",
              "    <tr>\n",
              "      <th>3</th>\n",
              "      <td>arenas y gravas</td>\n",
              "      <td>2</td>\n",
              "    </tr>\n",
              "    <tr>\n",
              "      <th>4</th>\n",
              "      <td>arenas y gravas</td>\n",
              "      <td>2</td>\n",
              "    </tr>\n",
              "    <tr>\n",
              "      <th>5</th>\n",
              "      <td>arenas y gravas</td>\n",
              "      <td>2</td>\n",
              "    </tr>\n",
              "    <tr>\n",
              "      <th>6</th>\n",
              "      <td>oro</td>\n",
              "      <td>13</td>\n",
              "    </tr>\n",
              "    <tr>\n",
              "      <th>7</th>\n",
              "      <td>carbón</td>\n",
              "      <td>8</td>\n",
              "    </tr>\n",
              "    <tr>\n",
              "      <th>8</th>\n",
              "      <td>calizas</td>\n",
              "      <td>6</td>\n",
              "    </tr>\n",
              "    <tr>\n",
              "      <th>9</th>\n",
              "      <td>carbón</td>\n",
              "      <td>8</td>\n",
              "    </tr>\n",
              "    <tr>\n",
              "      <th>10</th>\n",
              "      <td>arcilla</td>\n",
              "      <td>0</td>\n",
              "    </tr>\n",
              "    <tr>\n",
              "      <th>11</th>\n",
              "      <td>arenas y gravas</td>\n",
              "      <td>2</td>\n",
              "    </tr>\n",
              "    <tr>\n",
              "      <th>12</th>\n",
              "      <td>recebos</td>\n",
              "      <td>16</td>\n",
              "    </tr>\n",
              "    <tr>\n",
              "      <th>13</th>\n",
              "      <td>carbón</td>\n",
              "      <td>8</td>\n",
              "    </tr>\n",
              "    <tr>\n",
              "      <th>14</th>\n",
              "      <td>arenas y gravas</td>\n",
              "      <td>2</td>\n",
              "    </tr>\n",
              "    <tr>\n",
              "      <th>15</th>\n",
              "      <td>oro</td>\n",
              "      <td>13</td>\n",
              "    </tr>\n",
              "    <tr>\n",
              "      <th>16</th>\n",
              "      <td>metales preciosos</td>\n",
              "      <td>12</td>\n",
              "    </tr>\n",
              "    <tr>\n",
              "      <th>17</th>\n",
              "      <td>metales preciosos</td>\n",
              "      <td>12</td>\n",
              "    </tr>\n",
              "    <tr>\n",
              "      <th>18</th>\n",
              "      <td>metales preciosos</td>\n",
              "      <td>12</td>\n",
              "    </tr>\n",
              "    <tr>\n",
              "      <th>19</th>\n",
              "      <td>recebos</td>\n",
              "      <td>16</td>\n",
              "    </tr>\n",
              "    <tr>\n",
              "      <th>20</th>\n",
              "      <td>metales preciosos</td>\n",
              "      <td>12</td>\n",
              "    </tr>\n",
              "    <tr>\n",
              "      <th>21</th>\n",
              "      <td>metales preciosos</td>\n",
              "      <td>12</td>\n",
              "    </tr>\n",
              "    <tr>\n",
              "      <th>22</th>\n",
              "      <td>metales preciosos</td>\n",
              "      <td>12</td>\n",
              "    </tr>\n",
              "    <tr>\n",
              "      <th>23</th>\n",
              "      <td>metales preciosos</td>\n",
              "      <td>12</td>\n",
              "    </tr>\n",
              "    <tr>\n",
              "      <th>24</th>\n",
              "      <td>oro</td>\n",
              "      <td>14</td>\n",
              "    </tr>\n",
              "    <tr>\n",
              "      <th>25</th>\n",
              "      <td>plata</td>\n",
              "      <td>15</td>\n",
              "    </tr>\n",
              "    <tr>\n",
              "      <th>26</th>\n",
              "      <td>arenas y gravas</td>\n",
              "      <td>2</td>\n",
              "    </tr>\n",
              "    <tr>\n",
              "      <th>27</th>\n",
              "      <td>arenas y gravas</td>\n",
              "      <td>3</td>\n",
              "    </tr>\n",
              "    <tr>\n",
              "      <th>28</th>\n",
              "      <td>oro</td>\n",
              "      <td>13</td>\n",
              "    </tr>\n",
              "    <tr>\n",
              "      <th>29</th>\n",
              "      <td>carbón</td>\n",
              "      <td>8</td>\n",
              "    </tr>\n",
              "  </tbody>\n",
              "</table>\n",
              "</div>"
            ],
            "text/plain": [
              "             original  codificada\n",
              "0     arenas y gravas           2\n",
              "1             arcilla           0\n",
              "2     arenas y gravas           2\n",
              "3     arenas y gravas           2\n",
              "4     arenas y gravas           2\n",
              "5     arenas y gravas           2\n",
              "6                 oro          13\n",
              "7              carbón           8\n",
              "8             calizas           6\n",
              "9              carbón           8\n",
              "10            arcilla           0\n",
              "11    arenas y gravas           2\n",
              "12            recebos          16\n",
              "13             carbón           8\n",
              "14    arenas y gravas           2\n",
              "15                oro          13\n",
              "16  metales preciosos          12\n",
              "17  metales preciosos          12\n",
              "18  metales preciosos          12\n",
              "19            recebos          16\n",
              "20  metales preciosos          12\n",
              "21  metales preciosos          12\n",
              "22  metales preciosos          12\n",
              "23  metales preciosos          12\n",
              "24               oro           14\n",
              "25              plata          15\n",
              "26    arenas y gravas           2\n",
              "27   arenas y gravas            3\n",
              "28                oro          13\n",
              "29             carbón           8"
            ]
          },
          "metadata": {
            "tags": []
          },
          "execution_count": 71
        }
      ]
    },
    {
      "cell_type": "markdown",
      "metadata": {
        "id": "vh0D_o_v5FIM"
      },
      "source": [
        "Codificar los datos originales mapeados"
      ]
    },
    {
      "cell_type": "code",
      "metadata": {
        "colab": {
          "base_uri": "https://localhost:8080/"
        },
        "id": "t5utiai35I5D",
        "outputId": "4efd1270-c144-4904-e732-f0adc8d8b34f"
      },
      "source": [
        "encoder=LabelEncoder()\n",
        "df['MINERAL']= encoder.fit_transform(df.MINERAL.values)\n",
        "print(df)"
      ],
      "execution_count": null,
      "outputs": [
        {
          "output_type": "stream",
          "text": [
            "     MINERAL  ECOS_POTENC_AFECTADOS  IMPACTOS  METODO_EXTRACCION\n",
            "0          2                      8         0                  7\n",
            "1          0                      8         0                  7\n",
            "2          2                      8         0                  7\n",
            "3          2                      1         0                  7\n",
            "4          2                      1         0                  7\n",
            "..       ...                    ...       ...                ...\n",
            "171       11                      0         5                  4\n",
            "172       11                      0         5                  4\n",
            "173       11                      0         5                  4\n",
            "174        2                      0         2                  2\n",
            "175       11                      0         2                  4\n",
            "\n",
            "[176 rows x 4 columns]\n"
          ],
          "name": "stdout"
        }
      ]
    },
    {
      "cell_type": "markdown",
      "metadata": {
        "id": "Pz_3PdOD5S-8"
      },
      "source": [
        "Revisar la tabla con las variables categoricas codificadas"
      ]
    },
    {
      "cell_type": "code",
      "metadata": {
        "colab": {
          "base_uri": "https://localhost:8080/",
          "height": 947
        },
        "id": "xN-GVfeK5agn",
        "outputId": "01e7a978-e731-4e20-8e46-869d72086315"
      },
      "source": [
        "df.head(30)"
      ],
      "execution_count": null,
      "outputs": [
        {
          "output_type": "execute_result",
          "data": {
            "text/html": [
              "<div>\n",
              "<style scoped>\n",
              "    .dataframe tbody tr th:only-of-type {\n",
              "        vertical-align: middle;\n",
              "    }\n",
              "\n",
              "    .dataframe tbody tr th {\n",
              "        vertical-align: top;\n",
              "    }\n",
              "\n",
              "    .dataframe thead th {\n",
              "        text-align: right;\n",
              "    }\n",
              "</style>\n",
              "<table border=\"1\" class=\"dataframe\">\n",
              "  <thead>\n",
              "    <tr style=\"text-align: right;\">\n",
              "      <th></th>\n",
              "      <th>MINERAL</th>\n",
              "      <th>ECOS_POTENC_AFECTADOS</th>\n",
              "      <th>IMPACTOS</th>\n",
              "      <th>METODO_EXTRACCION</th>\n",
              "    </tr>\n",
              "  </thead>\n",
              "  <tbody>\n",
              "    <tr>\n",
              "      <th>0</th>\n",
              "      <td>2</td>\n",
              "      <td>8</td>\n",
              "      <td>0</td>\n",
              "      <td>7</td>\n",
              "    </tr>\n",
              "    <tr>\n",
              "      <th>1</th>\n",
              "      <td>0</td>\n",
              "      <td>8</td>\n",
              "      <td>0</td>\n",
              "      <td>7</td>\n",
              "    </tr>\n",
              "    <tr>\n",
              "      <th>2</th>\n",
              "      <td>2</td>\n",
              "      <td>8</td>\n",
              "      <td>0</td>\n",
              "      <td>7</td>\n",
              "    </tr>\n",
              "    <tr>\n",
              "      <th>3</th>\n",
              "      <td>2</td>\n",
              "      <td>1</td>\n",
              "      <td>0</td>\n",
              "      <td>7</td>\n",
              "    </tr>\n",
              "    <tr>\n",
              "      <th>4</th>\n",
              "      <td>2</td>\n",
              "      <td>1</td>\n",
              "      <td>0</td>\n",
              "      <td>7</td>\n",
              "    </tr>\n",
              "    <tr>\n",
              "      <th>5</th>\n",
              "      <td>2</td>\n",
              "      <td>1</td>\n",
              "      <td>0</td>\n",
              "      <td>7</td>\n",
              "    </tr>\n",
              "    <tr>\n",
              "      <th>6</th>\n",
              "      <td>13</td>\n",
              "      <td>1</td>\n",
              "      <td>3</td>\n",
              "      <td>4</td>\n",
              "    </tr>\n",
              "    <tr>\n",
              "      <th>7</th>\n",
              "      <td>8</td>\n",
              "      <td>1</td>\n",
              "      <td>2</td>\n",
              "      <td>6</td>\n",
              "    </tr>\n",
              "    <tr>\n",
              "      <th>8</th>\n",
              "      <td>6</td>\n",
              "      <td>1</td>\n",
              "      <td>2</td>\n",
              "      <td>6</td>\n",
              "    </tr>\n",
              "    <tr>\n",
              "      <th>9</th>\n",
              "      <td>8</td>\n",
              "      <td>0</td>\n",
              "      <td>4</td>\n",
              "      <td>6</td>\n",
              "    </tr>\n",
              "    <tr>\n",
              "      <th>10</th>\n",
              "      <td>0</td>\n",
              "      <td>0</td>\n",
              "      <td>4</td>\n",
              "      <td>7</td>\n",
              "    </tr>\n",
              "    <tr>\n",
              "      <th>11</th>\n",
              "      <td>2</td>\n",
              "      <td>0</td>\n",
              "      <td>4</td>\n",
              "      <td>7</td>\n",
              "    </tr>\n",
              "    <tr>\n",
              "      <th>12</th>\n",
              "      <td>16</td>\n",
              "      <td>0</td>\n",
              "      <td>4</td>\n",
              "      <td>6</td>\n",
              "    </tr>\n",
              "    <tr>\n",
              "      <th>13</th>\n",
              "      <td>8</td>\n",
              "      <td>0</td>\n",
              "      <td>4</td>\n",
              "      <td>6</td>\n",
              "    </tr>\n",
              "    <tr>\n",
              "      <th>14</th>\n",
              "      <td>2</td>\n",
              "      <td>1</td>\n",
              "      <td>0</td>\n",
              "      <td>6</td>\n",
              "    </tr>\n",
              "    <tr>\n",
              "      <th>15</th>\n",
              "      <td>13</td>\n",
              "      <td>8</td>\n",
              "      <td>0</td>\n",
              "      <td>4</td>\n",
              "    </tr>\n",
              "    <tr>\n",
              "      <th>16</th>\n",
              "      <td>12</td>\n",
              "      <td>0</td>\n",
              "      <td>0</td>\n",
              "      <td>4</td>\n",
              "    </tr>\n",
              "    <tr>\n",
              "      <th>17</th>\n",
              "      <td>12</td>\n",
              "      <td>2</td>\n",
              "      <td>0</td>\n",
              "      <td>4</td>\n",
              "    </tr>\n",
              "    <tr>\n",
              "      <th>18</th>\n",
              "      <td>12</td>\n",
              "      <td>0</td>\n",
              "      <td>4</td>\n",
              "      <td>4</td>\n",
              "    </tr>\n",
              "    <tr>\n",
              "      <th>19</th>\n",
              "      <td>16</td>\n",
              "      <td>0</td>\n",
              "      <td>4</td>\n",
              "      <td>7</td>\n",
              "    </tr>\n",
              "    <tr>\n",
              "      <th>20</th>\n",
              "      <td>12</td>\n",
              "      <td>0</td>\n",
              "      <td>4</td>\n",
              "      <td>4</td>\n",
              "    </tr>\n",
              "    <tr>\n",
              "      <th>21</th>\n",
              "      <td>12</td>\n",
              "      <td>0</td>\n",
              "      <td>4</td>\n",
              "      <td>4</td>\n",
              "    </tr>\n",
              "    <tr>\n",
              "      <th>22</th>\n",
              "      <td>12</td>\n",
              "      <td>0</td>\n",
              "      <td>4</td>\n",
              "      <td>4</td>\n",
              "    </tr>\n",
              "    <tr>\n",
              "      <th>23</th>\n",
              "      <td>12</td>\n",
              "      <td>0</td>\n",
              "      <td>4</td>\n",
              "      <td>4</td>\n",
              "    </tr>\n",
              "    <tr>\n",
              "      <th>24</th>\n",
              "      <td>14</td>\n",
              "      <td>0</td>\n",
              "      <td>4</td>\n",
              "      <td>4</td>\n",
              "    </tr>\n",
              "    <tr>\n",
              "      <th>25</th>\n",
              "      <td>15</td>\n",
              "      <td>0</td>\n",
              "      <td>4</td>\n",
              "      <td>4</td>\n",
              "    </tr>\n",
              "    <tr>\n",
              "      <th>26</th>\n",
              "      <td>2</td>\n",
              "      <td>4</td>\n",
              "      <td>2</td>\n",
              "      <td>3</td>\n",
              "    </tr>\n",
              "    <tr>\n",
              "      <th>27</th>\n",
              "      <td>3</td>\n",
              "      <td>5</td>\n",
              "      <td>2</td>\n",
              "      <td>3</td>\n",
              "    </tr>\n",
              "    <tr>\n",
              "      <th>28</th>\n",
              "      <td>13</td>\n",
              "      <td>5</td>\n",
              "      <td>2</td>\n",
              "      <td>3</td>\n",
              "    </tr>\n",
              "    <tr>\n",
              "      <th>29</th>\n",
              "      <td>8</td>\n",
              "      <td>5</td>\n",
              "      <td>2</td>\n",
              "      <td>3</td>\n",
              "    </tr>\n",
              "  </tbody>\n",
              "</table>\n",
              "</div>"
            ],
            "text/plain": [
              "    MINERAL  ECOS_POTENC_AFECTADOS  IMPACTOS  METODO_EXTRACCION\n",
              "0         2                      8         0                  7\n",
              "1         0                      8         0                  7\n",
              "2         2                      8         0                  7\n",
              "3         2                      1         0                  7\n",
              "4         2                      1         0                  7\n",
              "5         2                      1         0                  7\n",
              "6        13                      1         3                  4\n",
              "7         8                      1         2                  6\n",
              "8         6                      1         2                  6\n",
              "9         8                      0         4                  6\n",
              "10        0                      0         4                  7\n",
              "11        2                      0         4                  7\n",
              "12       16                      0         4                  6\n",
              "13        8                      0         4                  6\n",
              "14        2                      1         0                  6\n",
              "15       13                      8         0                  4\n",
              "16       12                      0         0                  4\n",
              "17       12                      2         0                  4\n",
              "18       12                      0         4                  4\n",
              "19       16                      0         4                  7\n",
              "20       12                      0         4                  4\n",
              "21       12                      0         4                  4\n",
              "22       12                      0         4                  4\n",
              "23       12                      0         4                  4\n",
              "24       14                      0         4                  4\n",
              "25       15                      0         4                  4\n",
              "26        2                      4         2                  3\n",
              "27        3                      5         2                  3\n",
              "28       13                      5         2                  3\n",
              "29        8                      5         2                  3"
            ]
          },
          "metadata": {
            "tags": []
          },
          "execution_count": 73
        }
      ]
    },
    {
      "cell_type": "markdown",
      "metadata": {
        "id": "OOA4gZPBz2Wh"
      },
      "source": [
        "Guardar el archivo procesado"
      ]
    },
    {
      "cell_type": "code",
      "metadata": {
        "id": "x9a0KO4iz7yC"
      },
      "source": [
        "df.to_csv(\"daño_mineria.csv\")"
      ],
      "execution_count": null,
      "outputs": []
    },
    {
      "cell_type": "markdown",
      "metadata": {
        "id": "1AzTpDb3eeeY"
      },
      "source": [
        "# **Entrenamiento, Predicción y Evaluación**"
      ]
    },
    {
      "cell_type": "markdown",
      "metadata": {
        "id": "OEIcEXoee3F2"
      },
      "source": [
        "Selección de variables para predecir el **modelo Regresión lineal**"
      ]
    },
    {
      "cell_type": "code",
      "metadata": {
        "colab": {
          "base_uri": "https://localhost:8080/"
        },
        "id": "57glsPGIfDHb",
        "outputId": "bffbf0b6-e30b-4bc9-87ca-548fdcaeee10"
      },
      "source": [
        "from sklearn.feature_selection import RFE\n",
        "from sklearn.svm import SVR\n",
        "from sklearn.linear_model import LinearRegression\n",
        "df = pd.read_csv(\"daño_mineria.csv\")\n",
        "#Variables predictoras\n",
        "feature_cols = [\"MINERAL\", \"ECOS_POTENC_AFECTADOS\", \"METODO_EXTRACCION\"]\n",
        "#Asignando a X las variables predictoras y a Y la variable a predecir\n",
        "X = df[feature_cols]\n",
        "Y = df[\"IMPACTOS\"]\n",
        "#Definiendo la selección de variables que van a intervenir en la prediccion\n",
        "lm = LinearRegression()\n",
        "lm.fit(X,Y)\n",
        "print(lm.intercept_)\n",
        "print(lm.coef_)"
      ],
      "execution_count": null,
      "outputs": [
        {
          "output_type": "stream",
          "text": [
            "4.41652146269553\n",
            "[ 0.07711953 -0.42400351 -0.25646541]\n"
          ],
          "name": "stdout"
        }
      ]
    },
    {
      "cell_type": "code",
      "metadata": {
        "colab": {
          "base_uri": "https://localhost:8080/"
        },
        "id": "Gbf7wVMouYIj",
        "outputId": "27b6d012-7560-431c-b456-0346213f63d3"
      },
      "source": [
        "list(zip(feature_cols, lm.coef_))\n"
      ],
      "execution_count": null,
      "outputs": [
        {
          "output_type": "execute_result",
          "data": {
            "text/plain": [
              "[('MINERAL', 0.07711953467462306),\n",
              " ('ECOS_POTENC_AFECTADOS', -0.4240035067974566),\n",
              " ('METODO_EXTRACCION', -0.2564654112744596)]"
            ]
          },
          "metadata": {
            "tags": []
          },
          "execution_count": 231
        }
      ]
    },
    {
      "cell_type": "code",
      "metadata": {
        "colab": {
          "base_uri": "https://localhost:8080/"
        },
        "id": "gTNqSroXy0e7",
        "outputId": "1f991428-c482-49d7-f5a7-7f7cd3cf5ab8"
      },
      "source": [
        "lm.score(X,Y)"
      ],
      "execution_count": null,
      "outputs": [
        {
          "output_type": "execute_result",
          "data": {
            "text/plain": [
              "0.37375573083815816"
            ]
          },
          "metadata": {
            "tags": []
          },
          "execution_count": 233
        }
      ]
    },
    {
      "cell_type": "markdown",
      "metadata": {
        "id": "0vditUZ32sME"
      },
      "source": [
        "**Modelo Regresión logística**"
      ]
    },
    {
      "cell_type": "code",
      "metadata": {
        "id": "if3OCuS42yDc"
      },
      "source": [
        "from sklearn import metrics\n",
        "from sklearn.model_selection import train_test_split\n",
        "from sklearn.linear_model import LogisticRegression\n",
        "import matplotlib.pyplot as plt\n",
        "import seaborn as sns\n",
        "%matplotlib inline"
      ],
      "execution_count": null,
      "outputs": []
    },
    {
      "cell_type": "code",
      "metadata": {
        "id": "Y7i-ED5A3n81"
      },
      "source": [
        "df = pd.read_csv(\"daño_mineria.csv\")\n",
        "#Variables predictoras\n",
        "feature_cols = [\"MINERAL\", \"ECOS_POTENC_AFECTADOS\", \"METODO_EXTRACCION\"]\n",
        "#Asignando a X las variables predictoras y a Y la variable a predecir\n",
        "X = df[feature_cols]\n",
        "Y = df[\"IMPACTOS\"]"
      ],
      "execution_count": null,
      "outputs": []
    },
    {
      "cell_type": "code",
      "metadata": {
        "id": "duOdt6_N4XIX"
      },
      "source": [
        "#Entrenamiento\n",
        "X_train, X_test, y_train, y_test = train_test_split(X, Y, test_size =0.25, random_state=0)"
      ],
      "execution_count": null,
      "outputs": []
    },
    {
      "cell_type": "code",
      "metadata": {
        "colab": {
          "base_uri": "https://localhost:8080/"
        },
        "id": "zfT0zenS42xU",
        "outputId": "483f4a40-c7db-4ed1-81ca-a94c64fcf073"
      },
      "source": [
        "#Llamar el algoritmo\n",
        "logreg = LogisticRegression()\n",
        "logreg.fit(X_train, y_train)\n",
        "y_pred = logreg.predict(X_test)"
      ],
      "execution_count": null,
      "outputs": [
        {
          "output_type": "stream",
          "text": [
            "/usr/local/lib/python3.7/dist-packages/sklearn/linear_model/_logistic.py:940: ConvergenceWarning: lbfgs failed to converge (status=1):\n",
            "STOP: TOTAL NO. of ITERATIONS REACHED LIMIT.\n",
            "\n",
            "Increase the number of iterations (max_iter) or scale the data as shown in:\n",
            "    https://scikit-learn.org/stable/modules/preprocessing.html\n",
            "Please also refer to the documentation for alternative solver options:\n",
            "    https://scikit-learn.org/stable/modules/linear_model.html#logistic-regression\n",
            "  extra_warning_msg=_LOGISTIC_SOLVER_CONVERGENCE_MSG)\n"
          ],
          "name": "stderr"
        }
      ]
    },
    {
      "cell_type": "code",
      "metadata": {
        "colab": {
          "base_uri": "https://localhost:8080/"
        },
        "id": "a6wOxDgz5RnI",
        "outputId": "448661f4-672c-42c9-87c3-f3b96242c3ff"
      },
      "source": [
        "y_pred"
      ],
      "execution_count": null,
      "outputs": [
        {
          "output_type": "execute_result",
          "data": {
            "text/plain": [
              "array([5, 5, 5, 5, 5, 5, 4, 5, 5, 5, 5, 5, 4, 5, 5, 5, 2, 5, 5, 5, 5, 2,\n",
              "       4, 5, 5, 5, 5, 5, 5, 5, 2, 5, 5, 5, 4, 5, 4, 5, 5, 5, 5, 2, 5, 5])"
            ]
          },
          "metadata": {
            "tags": []
          },
          "execution_count": 240
        }
      ]
    },
    {
      "cell_type": "code",
      "metadata": {
        "colab": {
          "base_uri": "https://localhost:8080/"
        },
        "id": "VId0iF1Y6CQO",
        "outputId": "1a3081c3-8b6e-4044-cc17-c49b6a3e9802"
      },
      "source": [
        "#matriz de confusión\n",
        "cnf_matrix = metrics.confusion_matrix(y_test, y_pred)\n",
        "cnf_matrix"
      ],
      "execution_count": null,
      "outputs": [
        {
          "output_type": "execute_result",
          "data": {
            "text/plain": [
              "array([[ 0,  0,  2,  1],\n",
              "       [ 0,  4,  2,  4],\n",
              "       [ 0,  0,  1,  8],\n",
              "       [ 0,  0,  0, 22]])"
            ]
          },
          "metadata": {
            "tags": []
          },
          "execution_count": 243
        }
      ]
    },
    {
      "cell_type": "code",
      "metadata": {
        "colab": {
          "base_uri": "https://localhost:8080/",
          "height": 343
        },
        "id": "tJFHBHZy6a3a",
        "outputId": "cbea8d4c-f62a-4ca6-ca47-c782011140d5"
      },
      "source": [
        "import numpy as np\n",
        "class_names = [0, 1]\n",
        "fig, ax = plt.subplots()\n",
        "tick_marks = np.arange(len(class_names))\n",
        "plt.xticks(tick_marks, class_names)\n",
        "plt.yticks(tick_marks, class_names)\n",
        "\n",
        "sns.heatmap(pd.DataFrame(cnf_matrix), annot = True, cmap = 'Blues_r', fmt = 'g')\n",
        "ax.xaxis.set_label_position('top')\n",
        "plt.tight_layout()\n",
        "plt.title('Matiz de confusión', y = 1.1)\n",
        "plt.ylabel('Etiqueta actual')\n",
        "plt.xlabel('Etiqueta de predicción')"
      ],
      "execution_count": null,
      "outputs": [
        {
          "output_type": "execute_result",
          "data": {
            "text/plain": [
              "Text(0.5, 257.44, 'Etiqueta de predicción')"
            ]
          },
          "metadata": {
            "tags": []
          },
          "execution_count": 246
        },
        {
          "output_type": "display_data",
          "data": {
            "image/png": "[encoded data removed]",
            "text/plain": [
              "<Figure size 432x288 with 2 Axes>"
            ]
          },
          "metadata": {
            "tags": [],
            "needs_background": "light"
          }
        }
      ]
    },
    {
      "cell_type": "code",
      "metadata": {
        "colab": {
          "base_uri": "https://localhost:8080/"
        },
        "id": "0zaDdNWg8iOj",
        "outputId": "dba3689d-97e5-4137-c966-8f13d37f9329"
      },
      "source": [
        "print(\"Exactitud\", metrics.accuracy_score(y_test, y_pred))\n"
      ],
      "execution_count": null,
      "outputs": [
        {
          "output_type": "stream",
          "text": [
            "Exactitud 0.6136363636363636\n"
          ],
          "name": "stdout"
        }
      ]
    }
  ]
}