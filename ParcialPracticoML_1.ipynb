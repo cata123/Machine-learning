{
  "nbformat": 4,
  "nbformat_minor": 0,
  "metadata": {
    "colab": {
      "name": "ParcialPracticoML_1.ipynb",
      "provenance": [],
      "include_colab_link": true
    },
    "kernelspec": {
      "name": "python3",
      "display_name": "Python 3"
    },
    "language_info": {
      "name": "python"
    }
  },
  "cells": [
    {
      "cell_type": "markdown",
      "metadata": {
        "id": "view-in-github",
        "colab_type": "text"
      },
      "source": [
        "<a href=\"https://colab.research.google.com/github/cata123/Machine-learning/blob/main/ParcialPracticoML_1.ipynb\" target=\"_parent\"><img src=\"https://colab.research.google.com/assets/colab-badge.svg\" alt=\"Open In Colab\"/></a>"
      ]
    },
    {
      "cell_type": "markdown",
      "metadata": {
        "id": "kWMEYmFK-pA9"
      },
      "source": [
        "# **Seleccionar la data que deseen, sobre la data seleccionada aplicar los siguientes 6 algoritmos**:\n",
        "\n",
        "1. Logistic Regression\n",
        "2. Nearest Neighbor\n",
        "3. Support Vector Machines \n",
        "4. Naive Bayes\n",
        "5. Decision Tree Algorithm\n",
        "6. Random Forest Classification"
      ]
    },
    {
      "cell_type": "markdown",
      "metadata": {
        "id": "qi-Rbafr-6wT"
      },
      "source": [
        "Importar librerías"
      ]
    },
    {
      "cell_type": "code",
      "metadata": {
        "id": "xQfmAIyP-aZf"
      },
      "source": [
        "from sklearn.cluster import KMeans\n",
        "from sklearn import datasets\n",
        "import numpy as np\n",
        "import pandas as pd\n",
        "import matplotlib.pyplot as plt\n",
        "from sklearn.metrics import accuracy_score\n",
        "from sklearn.model_selection import train_test_split"
      ],
      "execution_count": null,
      "outputs": []
    },
    {
      "cell_type": "markdown",
      "metadata": {
        "id": "SaMhK_CPA960"
      },
      "source": [
        "Cargar dataset"
      ]
    },
    {
      "cell_type": "code",
      "metadata": {
        "id": "rr9J7kNLBA3J"
      },
      "source": [
        "iris = datasets.load_iris()"
      ],
      "execution_count": null,
      "outputs": []
    },
    {
      "cell_type": "markdown",
      "metadata": {
        "id": "mp0uK5D6BWy9"
      },
      "source": [
        "Dividir los datos"
      ]
    },
    {
      "cell_type": "code",
      "metadata": {
        "colab": {
          "base_uri": "https://localhost:8080/"
        },
        "id": "0S_VlUtHBZqs",
        "outputId": "3d1bc4c5-8213-442b-907c-48176e6bcd92"
      },
      "source": [
        "iris_feature = iris.data\n",
        "iris_target = iris.target\n",
        "print(iris_target)"
      ],
      "execution_count": null,
      "outputs": [
        {
          "output_type": "stream",
          "text": [
            "[0 0 0 0 0 0 0 0 0 0 0 0 0 0 0 0 0 0 0 0 0 0 0 0 0 0 0 0 0 0 0 0 0 0 0 0 0\n",
            " 0 0 0 0 0 0 0 0 0 0 0 0 0 1 1 1 1 1 1 1 1 1 1 1 1 1 1 1 1 1 1 1 1 1 1 1 1\n",
            " 1 1 1 1 1 1 1 1 1 1 1 1 1 1 1 1 1 1 1 1 1 1 1 1 1 1 2 2 2 2 2 2 2 2 2 2 2\n",
            " 2 2 2 2 2 2 2 2 2 2 2 2 2 2 2 2 2 2 2 2 2 2 2 2 2 2 2 2 2 2 2 2 2 2 2 2 2\n",
            " 2 2]\n"
          ],
          "name": "stdout"
        }
      ]
    },
    {
      "cell_type": "code",
      "metadata": {
        "colab": {
          "base_uri": "https://localhost:8080/"
        },
        "id": "4-4pcPfDHgGv",
        "outputId": "343217d9-87bb-4840-a280-23aa32cc2d04"
      },
      "source": [
        "feature_train, feature_test, target_train, target_test = train_test_split(iris_feature, iris_target, test_size=0.25,random_state=100)\n",
        "print(target_train)"
      ],
      "execution_count": null,
      "outputs": [
        {
          "output_type": "stream",
          "text": [
            "[2 2 0 1 2 2 0 0 0 0 1 0 0 0 1 2 2 1 2 1 2 2 1 0 2 2 2 0 0 2 0 0 0 1 2 2 2\n",
            " 0 1 1 0 1 1 2 0 1 1 1 1 1 1 2 2 0 1 0 1 2 2 2 1 0 0 0 0 2 0 0 1 0 2 1 2 0\n",
            " 2 2 0 1 1 1 2 1 1 0 0 0 2 1 1 0 2 2 2 1 1 1 1 2 2 0 0 1 1 1 1 2 1 1 2 1 0\n",
            " 0]\n"
          ],
          "name": "stdout"
        }
      ]
    },
    {
      "cell_type": "markdown",
      "metadata": {
        "id": "_SurDBjIJaYw"
      },
      "source": [
        "# **Arboles  de decisión (Decision Tree Algorithm)**"
      ]
    },
    {
      "cell_type": "code",
      "metadata": {
        "colab": {
          "base_uri": "https://localhost:8080/"
        },
        "id": "2NY1tuOHJkyG",
        "outputId": "ee644865-7e03-46ab-e9cf-09014ef82fea"
      },
      "source": [
        "from sklearn.tree import DecisionTreeClassifier\n",
        "dt_model = DecisionTreeClassifier()\n",
        "dt_model.fit(feature_train, target_train)\n",
        "predict_results_AD= dt_model.predict(feature_test)\n",
        "scores = dt_model.score(feature_test, target_test)\n",
        "print(predict_results)\n",
        "print(target_test)"
      ],
      "execution_count": null,
      "outputs": [
        {
          "output_type": "stream",
          "text": [
            "[2 0 2 0 2 2 0 0 2 0 0 2 0 0 2 1 1 2 2 2 2 0 2 0 1 2 1 0 1 2 1 1 1 0 0 1 0\n",
            " 1]\n",
            "[2 0 2 0 2 2 0 0 2 0 0 2 0 0 2 1 1 1 2 2 2 0 2 0 1 2 1 0 1 2 1 1 2 0 0 1 0\n",
            " 1]\n"
          ],
          "name": "stdout"
        }
      ]
    },
    {
      "cell_type": "code",
      "metadata": {
        "colab": {
          "base_uri": "https://localhost:8080/"
        },
        "id": "3mLZoIBeTpC0",
        "outputId": "58240786-097a-4c06-c707-f0c11df96d2d"
      },
      "source": [
        "print(accuracy_score(predict_results_AD, target_test))\n",
        "print(scores)"
      ],
      "execution_count": null,
      "outputs": [
        {
          "output_type": "stream",
          "text": [
            "0.9473684210526315\n",
            "0.9473684210526315\n"
          ],
          "name": "stdout"
        }
      ]
    },
    {
      "cell_type": "markdown",
      "metadata": {
        "id": "Nu4Wt-4ZDG3e"
      },
      "source": [
        "# **Regresión Logística (Logistic Regression)**"
      ]
    },
    {
      "cell_type": "code",
      "metadata": {
        "colab": {
          "base_uri": "https://localhost:8080/",
          "height": 340
        },
        "id": "wpppmVdDR4rl",
        "outputId": "e22f9d09-a970-4e6a-e41f-373e072e01f3"
      },
      "source": [
        "import warnings\n",
        "from sklearn import model_selection\n",
        "from sklearn.linear_model import LogisticRegression\n",
        "from sklearn.metrics import confusion_matrix\n",
        "%matplotlib inline  \n",
        "\n",
        "#ignorar warnings\n",
        "warnings.filterwarnings('ignore')\n",
        "df = pd.read_csv(url)\n",
        "# valores de X y y\n",
        "X = df.iloc[:,0:4]\n",
        "y = df.iloc[:,4]\n",
        "#Tamaño de la información de test\n",
        "test_size = 0.33\n",
        "#generar el random\n",
        "seed = 7\n",
        "#preparando la data de entrenamiento\n",
        "X_train, X_test, y_train, y_test = model_selection.train_test_split(X, y, test_size=test_size, random_state=seed)\n",
        "#Modelo de predicción\n",
        "model = LogisticRegression()\n",
        "model.fit(X_train, y_train)\n",
        "pred = model.predict(X_test)\n",
        "\n",
        "#Construyendo la matriz de confusión \n",
        "labels = ['Iris-setosa', 'Iris-versicolor', 'Iris-virginica']\n",
        "cm = confusion_matrix(y_test, pred, labels)\n",
        "print(cm)\n",
        "fig = plt.figure()\n",
        "ax = fig.add_subplot(111)\n",
        "cax = ax.matshow(cm)\n",
        "plt.title('Confusion matrix')\n",
        "fig.colorbar(cax)\n",
        "ax.set_xticklabels([''] + labels)\n",
        "ax.set_yticklabels([''] + labels)\n",
        "plt.xlabel('Predicted Values')\n",
        "plt.ylabel('Actual Values')\n",
        "plt.show()"
      ],
      "execution_count": null,
      "outputs": [
        {
          "output_type": "stream",
          "text": [
            "[[13  0  0]\n",
            " [ 0 17  2]\n",
            " [ 0  0 18]]\n"
          ],
          "name": "stdout"
        },
        {
          "output_type": "display_data",
          "data": {
            "image/png": "[encoded data removed]",
            "text/plain": [
              "<Figure size 432x288 with 2 Axes>"
            ]
          },
          "metadata": {
            "tags": [],
            "needs_background": "light"
          }
        }
      ]
    },
    {
      "cell_type": "code",
      "metadata": {
        "colab": {
          "base_uri": "https://localhost:8080/"
        },
        "id": "mUDhoBvwSK7t",
        "outputId": "79a48266-aeae-4a3f-d53b-e922f6a8280a"
      },
      "source": [
        "from sklearn.metrics import accuracy_score\n",
        "#dividiendo la data de validación\n",
        "kfold = model_selection.KFold(n_splits=10, random_state=seed)\n",
        "#Llamando el modelo de predicción\n",
        "model = LogisticRegression()\n",
        "#Evaluando el modelo con los valores del set\n",
        "scoring = 'accuracy'\n",
        "results = model_selection.cross_val_score(model, X, y, cv=kfold, scoring=scoring)\n",
        "print('Accuracy -val set: %.2f%% (%.2f)' % (results.mean()*100, results.std()))\n",
        "\n",
        "#definiendo la data de entrenamiento\n",
        "X_train, X_test, y_train, y_test = model_selection.train_test_split(X, y, test_size=test_size, random_state=seed)\n",
        "#entrenando el modelo\n",
        "model.fit(X_train, y_train)\n",
        "#Evaluando el modelo con los valores de test\n",
        "result = model.score(X_test, y_test)\n",
        "print(\"Accuracy - test set: %.2f%%\" % (result*100.0))"
      ],
      "execution_count": null,
      "outputs": [
        {
          "output_type": "stream",
          "text": [
            "Accuracy -val set: 94.67% (0.06)\n",
            "Accuracy - test set: 92.00%\n"
          ],
          "name": "stdout"
        }
      ]
    },
    {
      "cell_type": "markdown",
      "metadata": {
        "id": "NdzsQq8iUtg9"
      },
      "source": [
        "# **Naive Bayes**"
      ]
    },
    {
      "cell_type": "code",
      "metadata": {
        "colab": {
          "base_uri": "https://localhost:8080/"
        },
        "id": "Nh-N770cUub2",
        "outputId": "f20ef881-7383-4f1c-cc8d-bae983ab2f27"
      },
      "source": [
        "from sklearn import datasets\n",
        "from sklearn import metrics\n",
        "from sklearn.naive_bayes import GaussianNB\n",
        "dataset = datasets.load_iris()\n",
        "\n",
        "#Aquí tenemos un  GaussianNB() método que realiza exactamente las mismas funciones que el código explicado anteriormente\n",
        "model = GaussianNB()\n",
        "model.fit(dataset.data, dataset.target)\n",
        "\n",
        "#Haciendo predicciones\n",
        "expected = dataset.target\n",
        "predicted = model.predict(dataset.data)\n",
        "predicted\n",
        "print(metrics.classification_report(expected, predicted))\n",
        "print(metrics.confusion_matrix(expected, predicted))"
      ],
      "execution_count": null,
      "outputs": [
        {
          "output_type": "stream",
          "text": [
            "              precision    recall  f1-score   support\n",
            "\n",
            "           0       1.00      1.00      1.00        50\n",
            "           1       0.94      0.94      0.94        50\n",
            "           2       0.94      0.94      0.94        50\n",
            "\n",
            "    accuracy                           0.96       150\n",
            "   macro avg       0.96      0.96      0.96       150\n",
            "weighted avg       0.96      0.96      0.96       150\n",
            "\n",
            "[[50  0  0]\n",
            " [ 0 47  3]\n",
            " [ 0  3 47]]\n"
          ],
          "name": "stdout"
        }
      ]
    },
    {
      "cell_type": "markdown",
      "metadata": {
        "id": "0auZ-iIIW3iO"
      },
      "source": [
        "# **Nearest Neighbor**\n",
        "\n",
        "\n"
      ]
    },
    {
      "cell_type": "code",
      "metadata": {
        "id": "HkN0twDeW_dV"
      },
      "source": [
        ""
      ],
      "execution_count": null,
      "outputs": []
    },
    {
      "cell_type": "markdown",
      "metadata": {
        "id": "5VhH-lAtiJWi"
      },
      "source": [
        "# **Bosques Aleatorios (Random Forest Classification)**"
      ]
    },
    {
      "cell_type": "code",
      "metadata": {
        "colab": {
          "base_uri": "https://localhost:8080/",
          "height": 1000
        },
        "id": "_5tAxZONXpsN",
        "outputId": "f9c1bba1-ec5e-46ab-e278-632ae5f7fe0f"
      },
      "source": [
        "print('Información en el dataset:')\n",
        "print(iris.keys())\n",
        "print()\n",
        "#Verifico las características del dataset\n",
        "print('Características del dataset:')\n",
        "print(iris.DESCR)\n",
        "#Verifico la cantidad de datos que hay en los dataset\n",
        "print('Cantidad de datos:')\n",
        "print(iris.data.shape)\n",
        "print()\n",
        "#Verifico la información de las columnas\n",
        "print('Nombres columnas:')\n",
        "print(iris.feature_names)\n",
        "########## PREPARAR LA DATA BOSQUES ALEATORIOS REGRESIÓN ##########\n",
        "#Seleccionamos solamente la columna 2 del dataset\n",
        "X_bar = iris.data[:, np.newaxis, 2]\n",
        "#Defino los datos correspondientes a las etiquetas\n",
        "y_bar = iris.target\n",
        "#Graficamos los datos correspondientes\n",
        "plt.scatter(X_bar, y_bar)\n",
        "plt.show()\n",
        "########## IMPLEMENTACIÓN DE BOSQUES ALEATORIOS REGRESIÓN ##########\n",
        "from sklearn.model_selection import train_test_split\n",
        "#Separo los datos de \"train\" en entrenamiento y prueba para probar los algoritmos\n",
        "X_train, X_test, y_train, y_test = train_test_split(X_bar, y_bar, test_size=0.2)\n",
        "from sklearn.ensemble import RandomForestRegressor\n",
        "#Defino el algoritmo a utilizar\n",
        "bar = RandomForestRegressor(n_estimators = 300, max_depth = 8)\n",
        "#Entreno el modelo\n",
        "bar.fit(X_train, y_train)\n",
        "#Realizo una predicción\n",
        "Y_pred = bar.predict(X_test)\n",
        "#Graficamos los datos de prueba junto con la predicción\n",
        "X_grid = np.arange(min(X_test), max(X_test), 0.1)\n",
        "X_grid = X_grid.reshape((len(X_grid), 1))\n",
        "plt.scatter(X_test, y_test)\n",
        "plt.plot(X_grid, bar.predict(X_grid), color='red', linewidth=3)\n",
        "plt.show()\n",
        "#\n",
        "print('DATOS DEL MODELO BOSQUES ALEATORIOS REGRESION')\n",
        "print()\n",
        "print('Precisión del modelo:')\n",
        "print(bar.score(X_train, y_train))\n"
      ],
      "execution_count": null,
      "outputs": [
        {
          "output_type": "stream",
          "text": [
            "Información en el dataset:\n",
            "dict_keys(['data', 'target', 'target_names', 'DESCR', 'feature_names', 'filename'])\n",
            "\n",
            "Características del dataset:\n",
            ".. _iris_dataset:\n",
            "\n",
            "Iris plants dataset\n",
            "--------------------\n",
            "\n",
            "**Data Set Characteristics:**\n",
            "\n",
            "    :Number of Instances: 150 (50 in each of three classes)\n",
            "    :Number of Attributes: 4 numeric, predictive attributes and the class\n",
            "    :Attribute Information:\n",
            "        - sepal length in cm\n",
            "        - sepal width in cm\n",
            "        - petal length in cm\n",
            "        - petal width in cm\n",
            "        - class:\n",
            "                - Iris-Setosa\n",
            "                - Iris-Versicolour\n",
            "                - Iris-Virginica\n",
            "                \n",
            "    :Summary Statistics:\n",
            "\n",
            "    ============== ==== ==== ======= ===== ====================\n",
            "                    Min  Max   Mean    SD   Class Correlation\n",
            "    ============== ==== ==== ======= ===== ====================\n",
            "    sepal length:   4.3  7.9   5.84   0.83    0.7826\n",
            "    sepal width:    2.0  4.4   3.05   0.43   -0.4194\n",
            "    petal length:   1.0  6.9   3.76   1.76    0.9490  (high!)\n",
            "    petal width:    0.1  2.5   1.20   0.76    0.9565  (high!)\n",
            "    ============== ==== ==== ======= ===== ====================\n",
            "\n",
            "    :Missing Attribute Values: None\n",
            "    :Class Distribution: 33.3% for each of 3 classes.\n",
            "    :Creator: R.A. Fisher\n",
            "    :Donor: Michael Marshall (MARSHALL%PLU@io.arc.nasa.gov)\n",
            "    :Date: July, 1988\n",
            "\n",
            "The famous Iris database, first used by Sir R.A. Fisher. The dataset is taken\n",
            "from Fisher's paper. Note that it's the same as in R, but not as in the UCI\n",
            "Machine Learning Repository, which has two wrong data points.\n",
            "\n",
            "This is perhaps the best known database to be found in the\n",
            "pattern recognition literature.  Fisher's paper is a classic in the field and\n",
            "is referenced frequently to this day.  (See Duda & Hart, for example.)  The\n",
            "data set contains 3 classes of 50 instances each, where each class refers to a\n",
            "type of iris plant.  One class is linearly separable from the other 2; the\n",
            "latter are NOT linearly separable from each other.\n",
            "\n",
            ".. topic:: References\n",
            "\n",
            "   - Fisher, R.A. \"The use of multiple measurements in taxonomic problems\"\n",
            "     Annual Eugenics, 7, Part II, 179-188 (1936); also in \"Contributions to\n",
            "     Mathematical Statistics\" (John Wiley, NY, 1950).\n",
            "   - Duda, R.O., & Hart, P.E. (1973) Pattern Classification and Scene Analysis.\n",
            "     (Q327.D83) John Wiley & Sons.  ISBN 0-471-22361-1.  See page 218.\n",
            "   - Dasarathy, B.V. (1980) \"Nosing Around the Neighborhood: A New System\n",
            "     Structure and Classification Rule for Recognition in Partially Exposed\n",
            "     Environments\".  IEEE Transactions on Pattern Analysis and Machine\n",
            "     Intelligence, Vol. PAMI-2, No. 1, 67-71.\n",
            "   - Gates, G.W. (1972) \"The Reduced Nearest Neighbor Rule\".  IEEE Transactions\n",
            "     on Information Theory, May 1972, 431-433.\n",
            "   - See also: 1988 MLC Proceedings, 54-64.  Cheeseman et al\"s AUTOCLASS II\n",
            "     conceptual clustering system finds 3 classes in the data.\n",
            "   - Many, many more ...\n",
            "Cantidad de datos:\n",
            "(150, 4)\n",
            "\n",
            "Nombres columnas:\n",
            "['sepal length (cm)', 'sepal width (cm)', 'petal length (cm)', 'petal width (cm)']\n"
          ],
          "name": "stdout"
        },
        {
          "output_type": "display_data",
          "data": {
            "image/png": "[encoded data removed]",
            "text/plain": [
              "<Figure size 432x288 with 1 Axes>"
            ]
          },
          "metadata": {
            "tags": [],
            "needs_background": "light"
          }
        },
        {
          "output_type": "display_data",
          "data": {
            "image/png": "[encoded data removed]",
            "text/plain": [
              "<Figure size 432x288 with 1 Axes>"
            ]
          },
          "metadata": {
            "tags": [],
            "needs_background": "light"
          }
        },
        {
          "output_type": "stream",
          "text": [
            "DATOS DEL MODELO BOSQUES ALEATORIOS REGRESION\n",
            "\n",
            "Precisión del modelo:\n",
            "0.9585663700310931\n"
          ],
          "name": "stdout"
        }
      ]
    },
    {
      "cell_type": "markdown",
      "metadata": {
        "id": "ovCD_GykYgL0"
      },
      "source": [
        "# **Support Vector Machines**"
      ]
    },
    {
      "cell_type": "code",
      "metadata": {
        "id": "TIlrYIBiYn3V"
      },
      "source": [
        ""
      ],
      "execution_count": null,
      "outputs": []
    }
  ]
}